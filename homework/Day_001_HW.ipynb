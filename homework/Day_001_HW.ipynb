{
 "cells": [
  {
   "cell_type": "markdown",
   "metadata": {},
   "source": [
    "# 作業1：\n",
    "\n",
    "## 請上 Kaggle, 在 Competitions 或 Dataset 中找一組競賽或資料並寫下：\n",
    "\n",
    "###    1. 你選的這組資料為何重要\n",
    "    社會資訊化的時代，為倡導節能減碳，將金融、政府和工廠等紙本紀錄進行電子化作業，  \n",
    "    因此有大量的資料以及表單需輸入電腦進行歸檔，通過此組資料得到的訓練模型可以辨識紙本文件的資訊，  \n",
    "    減少人工介入大幅提升處理之效率與正確性。\n",
    "          \n",
    "###    2. 資料從何而來 (tips: 譬如提供者是誰、以什麼方式蒐集)\n",
    "*        提供者:\n",
    "             Yann LeCun, Courant Institute, NYU\n",
    "             Corinna Cortes, Google Labs, New York\n",
    "             Christopher J.C. Burges, Microsoft Research, Redmond\n",
    "*        蒐集方式: \n",
    "             訓練集是由來自250個不同人手寫的數字構成，其中50%是高中學生，50%來自人口普查局的工作人員。\n",
    "             測試集也是同樣比例的手寫數字數據。\n",
    "\n",
    "###    3. 蒐集而來的資料型態為何\n",
    "    結構化的純文字形式儲存表格資料\n",
    "\n",
    "###    4. 這組資料想解決的問題如何評估\n",
    "*        想解決的問題:\n",
    "            大量的資料以及表單需輸入電腦進行歸檔\n",
    "*        如何評估:\n",
    "            監督式機器學習"
   ]
  },
  {
   "cell_type": "markdown",
   "metadata": {},
   "source": [
    "# 作業2：\n",
    "\n",
    "## 想像你經營一個自由載客車隊，你希望能透過數據分析以提升業績，請你思考並描述你如何規劃整體的分析/解決方案：\n",
    "\n",
    "### 1. 核心問題為何 (tips：如何定義 「提升業績 & 你的假設」)\n",
    "*        先來說明什麼是什麼是公司業績，「公司的業績是指公司經營管理中的經營業績，它包括兩方面，一個是效率，即投入與產出間的比例關係，高效率意味著以較少的投入得到較高的產出；另一個是效果，指公司目標達到的程度。」（智庫百科）\n",
    "            <br />效率：\n",
    "                投入：　載客平台開發維護成本　\n",
    "                產出：　載客交易完成數量乘上平均每筆的交易金額抽成\n",
    "            在此效果不做考慮，因此假設提升業績在於如何將產出最大化\n",
    "\n",
    "### 2. 資料從何而來 (tips：哪些資料可能會對你想問的問題產生影響 & 資料如何蒐集)\n",
    "*        哪些資料可能會對你想問的問題產生影響:\n",
    "            消費者習慣：　於平台註冊的個人信息（包含出生年月日、性別、職業等）、下訂單的時間、交易方式\n",
    "            服務範圍、據點設置：　上下車地點、上下車時間\n",
    "*        資料如何蒐集:\n",
    "            服務交易平台\n",
    "\n",
    "### 3. 蒐集而來的資料型態為何\n",
    "    結構化的數值\n",
    "*        於平台註冊的個人信息、上下車地點、交易方式： string\n",
    "*        下訂單的時間、上下車時間: date\n",
    "\n",
    "### 4. 你要回答的問題，其如何評估 (tips：你的假設如何驗證)\n",
    "    通過上述消費者習慣提供適合乘客的車型及司機（市占率），並通過上下車地點、時間進行車輛的調度配置（空車率），以此減少空車率及市占率達到將產出最大化的目的"
   ]
  },
  {
   "cell_type": "markdown",
   "metadata": {},
   "source": [
    "## 練習時間\n",
    "#### 請寫一個函式用來計算 Mean Square Error\n",
    "$ MSE = \\frac{1}{n}\\sum_{i=1}^{n}{(Y_i - \\hat{Y}_i)^2} $\n",
    "\n",
    "### Hint: [如何取平方](https://googoodesign.gitbooks.io/-ezpython/unit-1.html)"
   ]
  },
  {
   "cell_type": "code",
   "execution_count": 21,
   "metadata": {},
   "outputs": [],
   "source": [
    "import numpy as np\n",
    "import math\n",
    "import matplotlib.pyplot as plt"
   ]
  },
  {
   "cell_type": "code",
   "execution_count": 22,
   "metadata": {},
   "outputs": [],
   "source": [
    "def mean_squared_error(y, y_hat):\n",
    "    square_error = (y - y_hat) ** 2\n",
    "    return sum(square_error ) / len(square_error)"
   ]
  },
  {
   "cell_type": "code",
   "execution_count": 23,
   "metadata": {},
   "outputs": [],
   "source": [
    "def mean_absolute_error(y, y_hat):\n",
    "    absolute_error = abs(y - y_hat)\n",
    "    return sum(absolute_error) / len(absolute_error)"
   ]
  },
  {
   "cell_type": "code",
   "execution_count": 24,
   "metadata": {},
   "outputs": [
    {
     "data": {
      "image/png": "[encoded data removed]",
      "text/plain": [
       "<Figure size 432x288 with 1 Axes>"
      ]
     },
     "metadata": {},
     "output_type": "display_data"
    }
   ],
   "source": [
    "w = 3\n",
    "b = 0.5\n",
    "\n",
    "x_lin = np.linspace(0, 100, 101)\n",
    "\n",
    "y = (x_lin + np.random.randn(101) * 5) * w + b\n",
    "\n",
    "plt.plot(x_lin, y, 'b.', label = 'data points')\n",
    "plt.title(\"Assume we have data points\")\n",
    "plt.legend(loc = 2)\n",
    "plt.show()"
   ]
  },
  {
   "cell_type": "code",
   "execution_count": 25,
   "metadata": {},
   "outputs": [
    {
     "data": {
      "image/png": "[encoded data removed]",
      "text/plain": [
       "<Figure size 432x288 with 1 Axes>"
      ]
     },
     "metadata": {},
     "output_type": "display_data"
    }
   ],
   "source": [
    "y_hat = x_lin * w + b\n",
    "plt.plot(x_lin, y, 'b.', label = 'data')\n",
    "plt.plot(x_lin, y_hat, 'r-', label = 'prediction')\n",
    "plt.title(\"Assume we have data points (And the prediction)\")\n",
    "plt.legend(loc = 2)\n",
    "plt.show()"
   ]
  },
  {
   "cell_type": "code",
   "execution_count": 26,
   "metadata": {},
   "outputs": [
    {
     "name": "stdout",
     "output_type": "stream",
     "text": [
      "The Mean squared error is 242.631\n",
      "The Mean absolute error is 12.434\n"
     ]
    }
   ],
   "source": [
    "# 執行 Function, 確認有沒有正常執行\n",
    "MSE = mean_squared_error(y, y_hat)\n",
    "MAE = mean_absolute_error(y, y_hat)\n",
    "print(\"The Mean squared error is %.3f\" % (MSE))\n",
    "print(\"The Mean absolute error is %.3f\" % (MAE))"
   ]
  }
 ],
 "metadata": {
  "kernelspec": {
   "display_name": "Python 3",
   "language": "python",
   "name": "python3"
  },
  "language_info": {
   "codemirror_mode": {
    "name": "ipython",
    "version": 3
   },
   "file_extension": ".py",
   "mimetype": "text/x-python",
   "name": "python",
   "nbconvert_exporter": "python",
   "pygments_lexer": "ipython3",
   "version": "3.6.5"
  }
 },
 "nbformat": 4,
 "nbformat_minor": 2
}
