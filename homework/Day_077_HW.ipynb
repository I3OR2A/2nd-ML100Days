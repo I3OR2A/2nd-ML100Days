{
 "cells": [
  {
   "cell_type": "markdown",
   "metadata": {},
   "source": [
    "## Work\n",
    "1. 請將 Epoch 加到 500 個，並觀察 learning curve 的走勢\n",
    "2. 請將 Optimizer 換成 SGD，並觀察 learning curve 的走勢"
   ]
  },
  {
   "cell_type": "code",
   "execution_count": 1,
   "metadata": {},
   "outputs": [
    {
     "name": "stderr",
     "output_type": "stream",
     "text": [
      "Using TensorFlow backend.\n"
     ]
    }
   ],
   "source": [
    "import os\n",
    "import keras\n",
    "\n",
    "# 本作業可以不需使用 GPU, 將 GPU 設定為 \"無\" (若有 GPU 且想開啟，可設為 \"0\")\n",
    "os.environ[\"CUDA_VISIBLE_DEVICES\"] = \"\""
   ]
  },
  {
   "cell_type": "code",
   "execution_count": 2,
   "metadata": {},
   "outputs": [],
   "source": [
    "# 從 Keras 的內建功能中，取得 train 與 test 資料集\n",
    "train, test = keras.datasets.cifar10.load_data()"
   ]
  },
  {
   "cell_type": "code",
   "execution_count": 3,
   "metadata": {},
   "outputs": [],
   "source": [
    "# 將 X 與 Y 獨立放進變數\n",
    "x_train, y_train = train\n",
    "x_test, y_test = test\n",
    "# 資料前處理 - 標準化\n",
    "x_train = x_train / 255.\n",
    "x_test = x_test / 255.\n",
    "\n",
    "# 將資料從圖形 (RGB) 轉為向量 (Single Vector)\n",
    "x_train = x_train.reshape((len(x_train), -1))\n",
    "x_test = x_test.reshape((len(x_test), -1))\n",
    "\n",
    "# 將目標轉為 one-hot encoding\n",
    "y_train = keras.utils.to_categorical(y_train, num_classes=10)\n",
    "y_test = keras.utils.to_categorical(y_test, num_classes=10)"
   ]
  },
  {
   "cell_type": "code",
   "execution_count": 4,
   "metadata": {},
   "outputs": [],
   "source": [
    "def build_mlp():\n",
    "    \"\"\"Code Here\n",
    "    建立你的神經網路\n",
    "    \"\"\"\n",
    "    input_layer = keras.layers.Input([x_train.shape[-1]])\n",
    "    x = keras.layers.Dense(units=512, activation=\"relu\")(input_layer)\n",
    "    x = keras.layers.Dense(units=256, activation=\"relu\")(x)\n",
    "    x = keras.layers.Dense(units=128, activation=\"relu\")(x)\n",
    "    out = keras.layers.Dense(units=10, activation=\"softmax\")(x)\n",
    "    \n",
    "    model = keras.models.Model(inputs=[input_layer], outputs=[out])\n",
    "    return model"
   ]
  },
  {
   "cell_type": "code",
   "execution_count": 6,
   "metadata": {},
   "outputs": [
    {
     "name": "stdout",
     "output_type": "stream",
     "text": [
      "Model: \"model_2\"\n",
      "_________________________________________________________________\n",
      "Layer (type)                 Output Shape              Param #   \n",
      "=================================================================\n",
      "input_2 (InputLayer)         (None, 3072)              0         \n",
      "_________________________________________________________________\n",
      "dense_5 (Dense)              (None, 512)               1573376   \n",
      "_________________________________________________________________\n",
      "dense_6 (Dense)              (None, 256)               131328    \n",
      "_________________________________________________________________\n",
      "dense_7 (Dense)              (None, 128)               32896     \n",
      "_________________________________________________________________\n",
      "dense_8 (Dense)              (None, 10)                1290      \n",
      "=================================================================\n",
      "Total params: 1,738,890\n",
      "Trainable params: 1,738,890\n",
      "Non-trainable params: 0\n",
      "_________________________________________________________________\n"
     ]
    }
   ],
   "source": [
    "\"\"\"\n",
    "Compile 模型\n",
    "\"\"\"\n",
    "\n",
    "model = build_mlp()\n",
    "# 用 Keras 內建方法檢視模型各層參數量\n",
    "model.summary()\n",
    "\n",
    "#optimizer = keras.optimizers.Adam(lr=0.001)\n",
    "optimizer = keras.optimizers.SGD(lr=0.01, decay=1e-6, momentum=0.9, nesterov=True)\n",
    "model.compile(loss=\"categorical_crossentropy\", metrics=[\"accuracy\"], optimizer=optimizer)"
   ]
  },
  {
   "cell_type": "code",
   "execution_count": 7,
   "metadata": {
    "scrolled": true
   },
   "outputs": [
    {
     "name": "stdout",
     "output_type": "stream",
     "text": [
      "Train on 50000 samples, validate on 10000 samples\n",
      "Epoch 1/100\n",
      "50000/50000 [==============================] - 3s 51us/step - loss: 1.8635 - accuracy: 0.3304 - val_loss: 1.7304 - val_accuracy: 0.3810\n",
      "Epoch 2/100\n",
      "50000/50000 [==============================] - 2s 42us/step - loss: 1.6481 - accuracy: 0.4133 - val_loss: 1.7105 - val_accuracy: 0.3929\n",
      "Epoch 3/100\n",
      "50000/50000 [==============================] - 2s 47us/step - loss: 1.5631 - accuracy: 0.4447 - val_loss: 1.6787 - val_accuracy: 0.4083\n",
      "Epoch 4/100\n",
      "50000/50000 [==============================] - 2s 42us/step - loss: 1.4947 - accuracy: 0.4688 - val_loss: 1.4936 - val_accuracy: 0.4598\n",
      "Epoch 5/100\n",
      "50000/50000 [==============================] - 2s 44us/step - loss: 1.4395 - accuracy: 0.4900 - val_loss: 1.5718 - val_accuracy: 0.4419\n",
      "Epoch 6/100\n",
      "50000/50000 [==============================] - 2s 43us/step - loss: 1.3995 - accuracy: 0.5053 - val_loss: 1.5359 - val_accuracy: 0.4528\n",
      "Epoch 7/100\n",
      "50000/50000 [==============================] - 2s 44us/step - loss: 1.3634 - accuracy: 0.5187 - val_loss: 1.4602 - val_accuracy: 0.4851\n",
      "Epoch 8/100\n",
      "50000/50000 [==============================] - 2s 44us/step - loss: 1.3313 - accuracy: 0.5290 - val_loss: 1.4823 - val_accuracy: 0.4666\n",
      "Epoch 9/100\n",
      "50000/50000 [==============================] - 2s 42us/step - loss: 1.3015 - accuracy: 0.5396 - val_loss: 1.4728 - val_accuracy: 0.4819\n",
      "Epoch 10/100\n",
      "50000/50000 [==============================] - 2s 42us/step - loss: 1.2685 - accuracy: 0.5514 - val_loss: 1.3991 - val_accuracy: 0.5028\n",
      "Epoch 11/100\n",
      "50000/50000 [==============================] - 2s 43us/step - loss: 1.2441 - accuracy: 0.5591 - val_loss: 1.3623 - val_accuracy: 0.5173\n",
      "Epoch 12/100\n",
      "50000/50000 [==============================] - 2s 43us/step - loss: 1.2184 - accuracy: 0.5695 - val_loss: 1.7305 - val_accuracy: 0.4363\n",
      "Epoch 13/100\n",
      "50000/50000 [==============================] - 2s 43us/step - loss: 1.1908 - accuracy: 0.5818 - val_loss: 1.3474 - val_accuracy: 0.5200\n",
      "Epoch 14/100\n",
      "50000/50000 [==============================] - 2s 42us/step - loss: 1.1680 - accuracy: 0.5874 - val_loss: 1.4022 - val_accuracy: 0.5011\n",
      "Epoch 15/100\n",
      "50000/50000 [==============================] - 2s 44us/step - loss: 1.1397 - accuracy: 0.5958 - val_loss: 1.4185 - val_accuracy: 0.5088\n",
      "Epoch 16/100\n",
      "50000/50000 [==============================] - 2s 43us/step - loss: 1.1179 - accuracy: 0.6031 - val_loss: 1.4578 - val_accuracy: 0.4981\n",
      "Epoch 17/100\n",
      "50000/50000 [==============================] - 2s 42us/step - loss: 1.0986 - accuracy: 0.6142 - val_loss: 1.4385 - val_accuracy: 0.4988\n",
      "Epoch 18/100\n",
      "50000/50000 [==============================] - 2s 42us/step - loss: 1.0718 - accuracy: 0.6206 - val_loss: 1.4293 - val_accuracy: 0.5033\n",
      "Epoch 19/100\n",
      "50000/50000 [==============================] - 2s 43us/step - loss: 1.0511 - accuracy: 0.6282 - val_loss: 1.4073 - val_accuracy: 0.5159\n",
      "Epoch 20/100\n",
      "50000/50000 [==============================] - 2s 42us/step - loss: 1.0241 - accuracy: 0.6374 - val_loss: 1.3625 - val_accuracy: 0.5258\n",
      "Epoch 21/100\n",
      "50000/50000 [==============================] - 2s 41us/step - loss: 1.0012 - accuracy: 0.6480 - val_loss: 1.4884 - val_accuracy: 0.4995\n",
      "Epoch 22/100\n",
      "50000/50000 [==============================] - 2s 41us/step - loss: 0.9879 - accuracy: 0.6488 - val_loss: 1.4188 - val_accuracy: 0.5168\n",
      "Epoch 23/100\n",
      "50000/50000 [==============================] - 2s 42us/step - loss: 0.9635 - accuracy: 0.6603 - val_loss: 1.3867 - val_accuracy: 0.5244\n",
      "Epoch 24/100\n",
      "50000/50000 [==============================] - 2s 41us/step - loss: 0.9344 - accuracy: 0.6693 - val_loss: 1.4692 - val_accuracy: 0.5035\n",
      "Epoch 25/100\n",
      "50000/50000 [==============================] - 2s 42us/step - loss: 0.9181 - accuracy: 0.6743 - val_loss: 1.5182 - val_accuracy: 0.5064\n",
      "Epoch 26/100\n",
      "50000/50000 [==============================] - 2s 42us/step - loss: 0.8999 - accuracy: 0.6804 - val_loss: 1.4057 - val_accuracy: 0.5303\n",
      "Epoch 27/100\n",
      "50000/50000 [==============================] - 2s 41us/step - loss: 0.8734 - accuracy: 0.6912 - val_loss: 1.4365 - val_accuracy: 0.5309\n",
      "Epoch 28/100\n",
      "50000/50000 [==============================] - 2s 41us/step - loss: 0.8526 - accuracy: 0.6978 - val_loss: 1.5424 - val_accuracy: 0.5107\n",
      "Epoch 29/100\n",
      "50000/50000 [==============================] - 2s 42us/step - loss: 0.8319 - accuracy: 0.7053 - val_loss: 1.4936 - val_accuracy: 0.5218\n",
      "Epoch 30/100\n",
      "50000/50000 [==============================] - 2s 42us/step - loss: 0.8038 - accuracy: 0.7165 - val_loss: 1.4815 - val_accuracy: 0.5319\n",
      "Epoch 31/100\n",
      "50000/50000 [==============================] - 2s 42us/step - loss: 0.7825 - accuracy: 0.7237 - val_loss: 1.6023 - val_accuracy: 0.5022\n",
      "Epoch 32/100\n",
      "50000/50000 [==============================] - 2s 42us/step - loss: 0.7660 - accuracy: 0.7286 - val_loss: 1.5586 - val_accuracy: 0.5173\n",
      "Epoch 33/100\n",
      "50000/50000 [==============================] - 2s 42us/step - loss: 0.7432 - accuracy: 0.7353 - val_loss: 1.6356 - val_accuracy: 0.5001\n",
      "Epoch 34/100\n",
      "50000/50000 [==============================] - 2s 41us/step - loss: 0.7200 - accuracy: 0.7440 - val_loss: 1.5463 - val_accuracy: 0.5232\n",
      "Epoch 35/100\n",
      "50000/50000 [==============================] - 2s 42us/step - loss: 0.6988 - accuracy: 0.7517 - val_loss: 1.5015 - val_accuracy: 0.5389\n",
      "Epoch 36/100\n",
      "50000/50000 [==============================] - 2s 42us/step - loss: 0.6782 - accuracy: 0.7605 - val_loss: 1.5643 - val_accuracy: 0.5252\n",
      "Epoch 37/100\n",
      "50000/50000 [==============================] - 2s 42us/step - loss: 0.6531 - accuracy: 0.7683 - val_loss: 1.5823 - val_accuracy: 0.5253\n",
      "Epoch 38/100\n",
      "50000/50000 [==============================] - 2s 42us/step - loss: 0.6470 - accuracy: 0.7689 - val_loss: 1.6785 - val_accuracy: 0.5181\n",
      "Epoch 39/100\n",
      "50000/50000 [==============================] - 2s 42us/step - loss: 0.6202 - accuracy: 0.7802 - val_loss: 1.6839 - val_accuracy: 0.5194\n",
      "Epoch 40/100\n",
      "50000/50000 [==============================] - 2s 42us/step - loss: 0.5938 - accuracy: 0.7904 - val_loss: 1.6902 - val_accuracy: 0.5215\n",
      "Epoch 41/100\n",
      "50000/50000 [==============================] - 2s 41us/step - loss: 0.5754 - accuracy: 0.7970 - val_loss: 1.8124 - val_accuracy: 0.5094\n",
      "Epoch 42/100\n",
      "50000/50000 [==============================] - 2s 42us/step - loss: 0.5682 - accuracy: 0.7980 - val_loss: 1.9173 - val_accuracy: 0.4958\n",
      "Epoch 43/100\n",
      "50000/50000 [==============================] - 2s 42us/step - loss: 0.5453 - accuracy: 0.8054 - val_loss: 1.9527 - val_accuracy: 0.5015\n",
      "Epoch 44/100\n",
      "50000/50000 [==============================] - 2s 41us/step - loss: 0.5238 - accuracy: 0.8149 - val_loss: 1.8387 - val_accuracy: 0.5141\n",
      "Epoch 45/100\n",
      "50000/50000 [==============================] - 2s 41us/step - loss: 0.5030 - accuracy: 0.8223 - val_loss: 1.8344 - val_accuracy: 0.5223\n",
      "Epoch 46/100\n",
      "50000/50000 [==============================] - 2s 42us/step - loss: 0.4849 - accuracy: 0.8280 - val_loss: 2.0525 - val_accuracy: 0.5134\n",
      "Epoch 47/100\n",
      "50000/50000 [==============================] - 2s 41us/step - loss: 0.4736 - accuracy: 0.8325 - val_loss: 1.9775 - val_accuracy: 0.5169\n",
      "Epoch 48/100\n",
      "50000/50000 [==============================] - 2s 41us/step - loss: 0.4555 - accuracy: 0.8384 - val_loss: 1.8912 - val_accuracy: 0.5184\n",
      "Epoch 49/100\n",
      "50000/50000 [==============================] - 2s 42us/step - loss: 0.4458 - accuracy: 0.8435 - val_loss: 2.0815 - val_accuracy: 0.5203\n",
      "Epoch 50/100\n",
      "50000/50000 [==============================] - 2s 41us/step - loss: 0.4218 - accuracy: 0.8522 - val_loss: 2.0157 - val_accuracy: 0.5273\n",
      "Epoch 51/100\n",
      "50000/50000 [==============================] - 2s 41us/step - loss: 0.4099 - accuracy: 0.8538 - val_loss: 2.0955 - val_accuracy: 0.5174\n",
      "Epoch 52/100\n",
      "50000/50000 [==============================] - 2s 42us/step - loss: 0.3924 - accuracy: 0.8619 - val_loss: 2.0929 - val_accuracy: 0.5170\n",
      "Epoch 53/100\n",
      "50000/50000 [==============================] - 2s 42us/step - loss: 0.3779 - accuracy: 0.8660 - val_loss: 2.0945 - val_accuracy: 0.5196\n",
      "Epoch 54/100\n",
      "50000/50000 [==============================] - 2s 42us/step - loss: 0.3710 - accuracy: 0.8673 - val_loss: 2.1741 - val_accuracy: 0.5182\n",
      "Epoch 55/100\n",
      "50000/50000 [==============================] - 2s 42us/step - loss: 0.3551 - accuracy: 0.8753 - val_loss: 2.2402 - val_accuracy: 0.5158\n"
     ]
    },
    {
     "name": "stdout",
     "output_type": "stream",
     "text": [
      "Epoch 56/100\n",
      "50000/50000 [==============================] - 2s 41us/step - loss: 0.3350 - accuracy: 0.8802 - val_loss: 2.4285 - val_accuracy: 0.5112\n",
      "Epoch 57/100\n",
      "50000/50000 [==============================] - 2s 41us/step - loss: 0.3338 - accuracy: 0.8818 - val_loss: 2.2603 - val_accuracy: 0.5231\n",
      "Epoch 58/100\n",
      "50000/50000 [==============================] - 2s 41us/step - loss: 0.3256 - accuracy: 0.8843 - val_loss: 2.5112 - val_accuracy: 0.5032\n",
      "Epoch 59/100\n",
      "50000/50000 [==============================] - 2s 41us/step - loss: 0.3097 - accuracy: 0.8902 - val_loss: 2.2845 - val_accuracy: 0.5261\n",
      "Epoch 60/100\n",
      "50000/50000 [==============================] - 2s 41us/step - loss: 0.2897 - accuracy: 0.8988 - val_loss: 2.3755 - val_accuracy: 0.5184\n",
      "Epoch 61/100\n",
      "50000/50000 [==============================] - 2s 42us/step - loss: 0.2877 - accuracy: 0.8979 - val_loss: 2.3666 - val_accuracy: 0.5136\n",
      "Epoch 62/100\n",
      "50000/50000 [==============================] - 2s 41us/step - loss: 0.2745 - accuracy: 0.9037 - val_loss: 2.5551 - val_accuracy: 0.5029\n",
      "Epoch 63/100\n",
      "50000/50000 [==============================] - 2s 41us/step - loss: 0.2715 - accuracy: 0.9049 - val_loss: 2.6973 - val_accuracy: 0.5109\n",
      "Epoch 64/100\n",
      "50000/50000 [==============================] - 2s 41us/step - loss: 0.2716 - accuracy: 0.9037 - val_loss: 2.4779 - val_accuracy: 0.5312\n",
      "Epoch 65/100\n",
      "50000/50000 [==============================] - 2s 41us/step - loss: 0.2330 - accuracy: 0.9184 - val_loss: 2.7286 - val_accuracy: 0.5038\n",
      "Epoch 66/100\n",
      "50000/50000 [==============================] - 2s 41us/step - loss: 0.2263 - accuracy: 0.9209 - val_loss: 2.6646 - val_accuracy: 0.5106\n",
      "Epoch 67/100\n",
      "50000/50000 [==============================] - 2s 41us/step - loss: 0.2368 - accuracy: 0.9163 - val_loss: 2.8293 - val_accuracy: 0.4951\n",
      "Epoch 68/100\n",
      "50000/50000 [==============================] - 2s 41us/step - loss: 0.2225 - accuracy: 0.9220 - val_loss: 2.6361 - val_accuracy: 0.5221\n",
      "Epoch 69/100\n",
      "50000/50000 [==============================] - 2s 42us/step - loss: 0.2194 - accuracy: 0.9228 - val_loss: 2.6959 - val_accuracy: 0.5226\n",
      "Epoch 70/100\n",
      "50000/50000 [==============================] - 2s 41us/step - loss: 0.2189 - accuracy: 0.9234 - val_loss: 2.6408 - val_accuracy: 0.5309\n",
      "Epoch 71/100\n",
      "50000/50000 [==============================] - 2s 41us/step - loss: 0.1961 - accuracy: 0.9314 - val_loss: 2.9117 - val_accuracy: 0.5220\n",
      "Epoch 72/100\n",
      "50000/50000 [==============================] - 2s 41us/step - loss: 0.2011 - accuracy: 0.9298 - val_loss: 2.7342 - val_accuracy: 0.5309\n",
      "Epoch 73/100\n",
      "50000/50000 [==============================] - 2s 41us/step - loss: 0.1826 - accuracy: 0.9360 - val_loss: 2.8028 - val_accuracy: 0.5240\n",
      "Epoch 74/100\n",
      "50000/50000 [==============================] - 2s 41us/step - loss: 0.1887 - accuracy: 0.9322 - val_loss: 3.0569 - val_accuracy: 0.5177\n",
      "Epoch 75/100\n",
      "50000/50000 [==============================] - 2s 41us/step - loss: 0.1823 - accuracy: 0.9357 - val_loss: 2.8861 - val_accuracy: 0.5221\n",
      "Epoch 76/100\n",
      "50000/50000 [==============================] - 2s 41us/step - loss: 0.1809 - accuracy: 0.9360 - val_loss: 2.9787 - val_accuracy: 0.5266\n",
      "Epoch 77/100\n",
      "50000/50000 [==============================] - 2s 42us/step - loss: 0.1691 - accuracy: 0.9403 - val_loss: 2.9664 - val_accuracy: 0.5295\n",
      "Epoch 78/100\n",
      "50000/50000 [==============================] - 2s 41us/step - loss: 0.1647 - accuracy: 0.9413 - val_loss: 3.0108 - val_accuracy: 0.5236\n",
      "Epoch 79/100\n",
      "50000/50000 [==============================] - 2s 41us/step - loss: 0.1705 - accuracy: 0.9394 - val_loss: 2.9881 - val_accuracy: 0.5215\n",
      "Epoch 80/100\n",
      "50000/50000 [==============================] - 2s 41us/step - loss: 0.1621 - accuracy: 0.9427 - val_loss: 3.0459 - val_accuracy: 0.5224\n",
      "Epoch 81/100\n",
      "50000/50000 [==============================] - 2s 41us/step - loss: 0.1588 - accuracy: 0.9438 - val_loss: 3.1903 - val_accuracy: 0.5173\n",
      "Epoch 82/100\n",
      "50000/50000 [==============================] - 2s 41us/step - loss: 0.1756 - accuracy: 0.9371 - val_loss: 3.0573 - val_accuracy: 0.5330\n",
      "Epoch 83/100\n",
      "50000/50000 [==============================] - 2s 44us/step - loss: 0.1281 - accuracy: 0.9560 - val_loss: 3.0671 - val_accuracy: 0.5277\n",
      "Epoch 84/100\n",
      "50000/50000 [==============================] - 2s 42us/step - loss: 0.1337 - accuracy: 0.9536 - val_loss: 3.1393 - val_accuracy: 0.5225\n",
      "Epoch 85/100\n",
      "50000/50000 [==============================] - 2s 41us/step - loss: 0.1238 - accuracy: 0.9567 - val_loss: 3.1791 - val_accuracy: 0.5324\n",
      "Epoch 86/100\n",
      "50000/50000 [==============================] - 2s 41us/step - loss: 0.1449 - accuracy: 0.9480 - val_loss: 3.2902 - val_accuracy: 0.5168\n",
      "Epoch 87/100\n",
      "50000/50000 [==============================] - 2s 41us/step - loss: 0.1602 - accuracy: 0.9419 - val_loss: 3.1645 - val_accuracy: 0.5254\n",
      "Epoch 88/100\n",
      "50000/50000 [==============================] - 2s 42us/step - loss: 0.1436 - accuracy: 0.9492 - val_loss: 3.3397 - val_accuracy: 0.5217\n",
      "Epoch 89/100\n",
      "50000/50000 [==============================] - 2s 41us/step - loss: 0.1441 - accuracy: 0.9493 - val_loss: 3.3619 - val_accuracy: 0.5172\n",
      "Epoch 90/100\n",
      "50000/50000 [==============================] - 2s 42us/step - loss: 0.1383 - accuracy: 0.9514 - val_loss: 3.4390 - val_accuracy: 0.5148\n",
      "Epoch 91/100\n",
      "50000/50000 [==============================] - 2s 42us/step - loss: 0.1396 - accuracy: 0.9505 - val_loss: 3.5304 - val_accuracy: 0.5143\n",
      "Epoch 92/100\n",
      "50000/50000 [==============================] - 2s 42us/step - loss: 0.1341 - accuracy: 0.9521 - val_loss: 3.3603 - val_accuracy: 0.5298\n",
      "Epoch 93/100\n",
      "50000/50000 [==============================] - 2s 42us/step - loss: 0.1196 - accuracy: 0.9577 - val_loss: 3.4783 - val_accuracy: 0.5307\n",
      "Epoch 94/100\n",
      "50000/50000 [==============================] - 2s 41us/step - loss: 0.0998 - accuracy: 0.9666 - val_loss: 3.4071 - val_accuracy: 0.5335\n",
      "Epoch 95/100\n",
      "50000/50000 [==============================] - 2s 42us/step - loss: 0.1012 - accuracy: 0.9645 - val_loss: 3.6085 - val_accuracy: 0.5176\n",
      "Epoch 96/100\n",
      "50000/50000 [==============================] - 2s 42us/step - loss: 0.1416 - accuracy: 0.9504 - val_loss: 3.5098 - val_accuracy: 0.5099\n",
      "Epoch 97/100\n",
      "50000/50000 [==============================] - 2s 41us/step - loss: 0.1399 - accuracy: 0.9497 - val_loss: 3.4995 - val_accuracy: 0.5275\n",
      "Epoch 98/100\n",
      "50000/50000 [==============================] - 2s 41us/step - loss: 0.1109 - accuracy: 0.9613 - val_loss: 3.6522 - val_accuracy: 0.5357\n",
      "Epoch 99/100\n",
      "50000/50000 [==============================] - 2s 41us/step - loss: 0.1273 - accuracy: 0.9545 - val_loss: 3.7661 - val_accuracy: 0.5211\n",
      "Epoch 100/100\n",
      "50000/50000 [==============================] - 2s 42us/step - loss: 0.1463 - accuracy: 0.9482 - val_loss: 3.5973 - val_accuracy: 0.5108\n"
     ]
    },
    {
     "data": {
      "text/plain": [
       "<keras.callbacks.callbacks.History at 0x1bc77a8ff60>"
      ]
     },
     "execution_count": 7,
     "metadata": {},
     "output_type": "execute_result"
    }
   ],
   "source": [
    "\"\"\"\n",
    "設定要訓練的 Epoch 數\n",
    "\"\"\"\n",
    "model.fit(x_train, y_train, \n",
    "          epochs=100, \n",
    "          batch_size=256, \n",
    "          validation_data=(x_test, y_test), \n",
    "          shuffle=True)"
   ]
  },
  {
   "cell_type": "code",
   "execution_count": 9,
   "metadata": {},
   "outputs": [
    {
     "data": {
      "image/png": "[encoded data removed]",
      "text/plain": [
       "<Figure size 432x288 with 1 Axes>"
      ]
     },
     "metadata": {
      "needs_background": "light"
     },
     "output_type": "display_data"
    },
    {
     "data": {
      "image/png": "[encoded data removed]",
      "text/plain": [
       "<Figure size 432x288 with 1 Axes>"
      ]
     },
     "metadata": {
      "needs_background": "light"
     },
     "output_type": "display_data"
    }
   ],
   "source": [
    "import matplotlib.pyplot as plt\n",
    "# 以視覺畫方式檢視訓練過程\n",
    "\n",
    "train_loss = model.history.history[\"loss\"]\n",
    "valid_loss = model.history.history[\"val_loss\"]\n",
    "\n",
    "train_acc = model.history.history[\"accuracy\"]\n",
    "valid_acc = model.history.history[\"val_accuracy\"]\n",
    "\n",
    "plt.plot(range(len(train_loss)), train_loss, label=\"train loss\")\n",
    "plt.plot(range(len(valid_loss)), valid_loss, label=\"valid loss\")\n",
    "plt.legend()\n",
    "plt.title(\"Loss\")\n",
    "plt.show()\n",
    "\n",
    "plt.plot(range(len(train_acc)), train_acc, label=\"train accuracy\")\n",
    "plt.plot(range(len(valid_acc)), valid_acc, label=\"valid accuracy\")\n",
    "plt.legend()\n",
    "plt.title(\"Accuracy\")\n",
    "plt.show()"
   ]
  },
  {
   "cell_type": "code",
   "execution_count": null,
   "metadata": {},
   "outputs": [],
   "source": []
  }
 ],
 "metadata": {
  "kernelspec": {
   "display_name": "Python 3",
   "language": "python",
   "name": "python3"
  },
  "language_info": {
   "codemirror_mode": {
    "name": "ipython",
    "version": 3
   },
   "file_extension": ".py",
   "mimetype": "text/x-python",
   "name": "python",
   "nbconvert_exporter": "python",
   "pygments_lexer": "ipython3",
   "version": "3.7.3"
  }
 },
 "nbformat": 4,
 "nbformat_minor": 2
}
