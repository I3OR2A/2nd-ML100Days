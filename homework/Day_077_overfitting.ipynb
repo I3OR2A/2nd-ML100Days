{
 "cells": [
  {
   "cell_type": "markdown",
   "metadata": {},
   "source": [
    "## 範例重點\n",
    "* 學會從 Keras 內建函式取得資料\n",
    "* 能夠建立簡易的深度學習模型\n",
    "* 觀察並了解 Overfit 現象"
   ]
  },
  {
   "cell_type": "code",
   "execution_count": 1,
   "metadata": {},
   "outputs": [
    {
     "name": "stderr",
     "output_type": "stream",
     "text": [
      "Using TensorFlow backend.\n"
     ]
    }
   ],
   "source": [
    "import os\n",
    "import keras\n",
    "\n",
    "# 本範例不需使用 GPU, 將 GPU 設定為 \"無\"\n",
    "os.environ[\"CUDA_VISIBLE_DEVICES\"] = \"\""
   ]
  },
  {
   "cell_type": "code",
   "execution_count": 2,
   "metadata": {},
   "outputs": [],
   "source": [
    "# 從 Keras 的內建功能中，取得 train 與 test 資料集\n",
    "train, test = keras.datasets.cifar10.load_data()"
   ]
  },
  {
   "cell_type": "code",
   "execution_count": 3,
   "metadata": {},
   "outputs": [],
   "source": [
    "# 將 X 與 Y 獨立放進變數\n",
    "x_train, y_train = train\n",
    "x_test, y_test = test\n",
    "# 資料前處理 - 標準化\n",
    "x_train = x_train / 255.\n",
    "x_test = x_test / 255.\n",
    "\n",
    "# 將資料從圖形 (RGB) 轉為向量 (Single Vector)\n",
    "x_train = x_train.reshape((len(x_train), -1))\n",
    "x_test = x_test.reshape((len(x_test), -1))\n",
    "\n",
    "# 將目標轉為 one-hot encoding\n",
    "y_train = keras.utils.to_categorical(y_train, num_classes=10)\n",
    "y_test = keras.utils.to_categorical(y_test, num_classes=10)"
   ]
  },
  {
   "cell_type": "code",
   "execution_count": 4,
   "metadata": {},
   "outputs": [],
   "source": [
    "# 建立一個有三層隱藏層之神經網路\n",
    "def build_mlp():\n",
    "    input_layer = keras.layers.Input([x_train.shape[-1]])\n",
    "    x = keras.layers.Dense(units=512, activation=\"relu\")(input_layer)\n",
    "    x = keras.layers.Dense(units=256, activation=\"relu\")(x)\n",
    "    x = keras.layers.Dense(units=128, activation=\"relu\")(x)\n",
    "    out = keras.layers.Dense(units=10, activation=\"softmax\")(x)\n",
    "    \n",
    "    model = keras.models.Model(inputs=[input_layer], outputs=[out])\n",
    "    return model"
   ]
  },
  {
   "cell_type": "code",
   "execution_count": 5,
   "metadata": {},
   "outputs": [
    {
     "name": "stdout",
     "output_type": "stream",
     "text": [
      "Model: \"model_1\"\n",
      "_________________________________________________________________\n",
      "Layer (type)                 Output Shape              Param #   \n",
      "=================================================================\n",
      "input_1 (InputLayer)         (None, 3072)              0         \n",
      "_________________________________________________________________\n",
      "dense_1 (Dense)              (None, 512)               1573376   \n",
      "_________________________________________________________________\n",
      "dense_2 (Dense)              (None, 256)               131328    \n",
      "_________________________________________________________________\n",
      "dense_3 (Dense)              (None, 128)               32896     \n",
      "_________________________________________________________________\n",
      "dense_4 (Dense)              (None, 10)                1290      \n",
      "=================================================================\n",
      "Total params: 1,738,890\n",
      "Trainable params: 1,738,890\n",
      "Non-trainable params: 0\n",
      "_________________________________________________________________\n"
     ]
    }
   ],
   "source": [
    "model = build_mlp()\n",
    "# 用 Keras 內建方法檢視模型各層參數量\n",
    "model.summary()\n",
    "\n",
    "optimizer = keras.optimizers.Adam(lr=0.001)\n",
    "model.compile(loss=\"categorical_crossentropy\", metrics=[\"accuracy\"], optimizer=optimizer)"
   ]
  },
  {
   "cell_type": "code",
   "execution_count": 6,
   "metadata": {},
   "outputs": [
    {
     "name": "stdout",
     "output_type": "stream",
     "text": [
      "Train on 50000 samples, validate on 10000 samples\n",
      "Epoch 1/100\n",
      "50000/50000 [==============================] - 3s 56us/step - loss: 1.9312 - accuracy: 0.3044 - val_loss: 1.7572 - val_accuracy: 0.3687\n",
      "Epoch 2/100\n",
      "50000/50000 [==============================] - 2s 46us/step - loss: 1.6952 - accuracy: 0.3970 - val_loss: 1.6462 - val_accuracy: 0.4071\n",
      "Epoch 3/100\n",
      "50000/50000 [==============================] - 2s 48us/step - loss: 1.6096 - accuracy: 0.4255 - val_loss: 1.5644 - val_accuracy: 0.4442\n",
      "Epoch 4/100\n",
      "50000/50000 [==============================] - 2s 46us/step - loss: 1.5409 - accuracy: 0.4516 - val_loss: 1.5524 - val_accuracy: 0.4429\n",
      "Epoch 5/100\n",
      "50000/50000 [==============================] - 2s 46us/step - loss: 1.5005 - accuracy: 0.4651 - val_loss: 1.5284 - val_accuracy: 0.4541\n",
      "Epoch 6/100\n",
      "50000/50000 [==============================] - 2s 47us/step - loss: 1.4686 - accuracy: 0.4766 - val_loss: 1.4801 - val_accuracy: 0.4744\n",
      "Epoch 7/100\n",
      "50000/50000 [==============================] - 2s 47us/step - loss: 1.4375 - accuracy: 0.4887 - val_loss: 1.4725 - val_accuracy: 0.4766\n",
      "Epoch 8/100\n",
      "50000/50000 [==============================] - 2s 46us/step - loss: 1.4068 - accuracy: 0.5003 - val_loss: 1.4387 - val_accuracy: 0.4877\n",
      "Epoch 9/100\n",
      "50000/50000 [==============================] - 2s 47us/step - loss: 1.3846 - accuracy: 0.5077 - val_loss: 1.4299 - val_accuracy: 0.4925\n",
      "Epoch 10/100\n",
      "50000/50000 [==============================] - 2s 47us/step - loss: 1.3539 - accuracy: 0.5185 - val_loss: 1.4951 - val_accuracy: 0.4730\n",
      "Epoch 11/100\n",
      "50000/50000 [==============================] - 2s 47us/step - loss: 1.3329 - accuracy: 0.5254 - val_loss: 1.4581 - val_accuracy: 0.4812\n",
      "Epoch 12/100\n",
      "50000/50000 [==============================] - 2s 47us/step - loss: 1.3119 - accuracy: 0.5331 - val_loss: 1.4039 - val_accuracy: 0.4969\n",
      "Epoch 13/100\n",
      "50000/50000 [==============================] - 2s 47us/step - loss: 1.2843 - accuracy: 0.5426 - val_loss: 1.4018 - val_accuracy: 0.5066\n",
      "Epoch 14/100\n",
      "50000/50000 [==============================] - 2s 47us/step - loss: 1.2655 - accuracy: 0.5497 - val_loss: 1.3905 - val_accuracy: 0.5048\n",
      "Epoch 15/100\n",
      "50000/50000 [==============================] - 2s 47us/step - loss: 1.2361 - accuracy: 0.5591 - val_loss: 1.3838 - val_accuracy: 0.5070\n",
      "Epoch 16/100\n",
      "50000/50000 [==============================] - 2s 48us/step - loss: 1.2255 - accuracy: 0.5608 - val_loss: 1.3901 - val_accuracy: 0.5096\n",
      "Epoch 17/100\n",
      "50000/50000 [==============================] - 2s 48us/step - loss: 1.1939 - accuracy: 0.5738 - val_loss: 1.3709 - val_accuracy: 0.5194\n",
      "Epoch 18/100\n",
      "50000/50000 [==============================] - 2s 47us/step - loss: 1.1745 - accuracy: 0.5820 - val_loss: 1.3920 - val_accuracy: 0.5121\n",
      "Epoch 19/100\n",
      "50000/50000 [==============================] - 2s 47us/step - loss: 1.1573 - accuracy: 0.5878 - val_loss: 1.3822 - val_accuracy: 0.5143\n",
      "Epoch 20/100\n",
      "50000/50000 [==============================] - 2s 47us/step - loss: 1.1264 - accuracy: 0.5985 - val_loss: 1.4099 - val_accuracy: 0.5128\n",
      "Epoch 21/100\n",
      "50000/50000 [==============================] - 2s 47us/step - loss: 1.1147 - accuracy: 0.6027 - val_loss: 1.4037 - val_accuracy: 0.5190\n",
      "Epoch 22/100\n",
      "50000/50000 [==============================] - 2s 47us/step - loss: 1.0992 - accuracy: 0.6084 - val_loss: 1.3919 - val_accuracy: 0.5168\n",
      "Epoch 23/100\n",
      "50000/50000 [==============================] - 2s 47us/step - loss: 1.0790 - accuracy: 0.6133 - val_loss: 1.4067 - val_accuracy: 0.5150\n",
      "Epoch 24/100\n",
      "50000/50000 [==============================] - 2s 46us/step - loss: 1.0566 - accuracy: 0.6250 - val_loss: 1.3888 - val_accuracy: 0.5174\n",
      "Epoch 25/100\n",
      "50000/50000 [==============================] - 2s 46us/step - loss: 1.0466 - accuracy: 0.6260 - val_loss: 1.4925 - val_accuracy: 0.5039\n",
      "Epoch 26/100\n",
      "50000/50000 [==============================] - 2s 46us/step - loss: 1.0246 - accuracy: 0.6368 - val_loss: 1.4488 - val_accuracy: 0.5147\n",
      "Epoch 27/100\n",
      "50000/50000 [==============================] - 2s 47us/step - loss: 0.9952 - accuracy: 0.6455 - val_loss: 1.4251 - val_accuracy: 0.5205\n",
      "Epoch 28/100\n",
      "50000/50000 [==============================] - 2s 47us/step - loss: 0.9812 - accuracy: 0.6508 - val_loss: 1.4533 - val_accuracy: 0.5121\n",
      "Epoch 29/100\n",
      "50000/50000 [==============================] - 2s 47us/step - loss: 0.9640 - accuracy: 0.6564 - val_loss: 1.4718 - val_accuracy: 0.5173\n",
      "Epoch 30/100\n",
      "50000/50000 [==============================] - 2s 47us/step - loss: 0.9532 - accuracy: 0.6573 - val_loss: 1.4522 - val_accuracy: 0.5144\n",
      "Epoch 31/100\n",
      "50000/50000 [==============================] - 2s 47us/step - loss: 0.9477 - accuracy: 0.6617 - val_loss: 1.4803 - val_accuracy: 0.5170\n",
      "Epoch 32/100\n",
      "50000/50000 [==============================] - 2s 46us/step - loss: 0.9154 - accuracy: 0.6726 - val_loss: 1.4907 - val_accuracy: 0.5151\n",
      "Epoch 33/100\n",
      "50000/50000 [==============================] - 2s 47us/step - loss: 0.8896 - accuracy: 0.6828 - val_loss: 1.5059 - val_accuracy: 0.5240\n",
      "Epoch 34/100\n",
      "50000/50000 [==============================] - 2s 48us/step - loss: 0.8905 - accuracy: 0.6810 - val_loss: 1.4874 - val_accuracy: 0.5280\n",
      "Epoch 35/100\n",
      "50000/50000 [==============================] - 2s 47us/step - loss: 0.8618 - accuracy: 0.6919 - val_loss: 1.5460 - val_accuracy: 0.5201\n",
      "Epoch 36/100\n",
      "50000/50000 [==============================] - 2s 47us/step - loss: 0.8535 - accuracy: 0.6947 - val_loss: 1.5415 - val_accuracy: 0.5081\n",
      "Epoch 37/100\n",
      "50000/50000 [==============================] - 2s 47us/step - loss: 0.8454 - accuracy: 0.7000 - val_loss: 1.5473 - val_accuracy: 0.5124\n",
      "Epoch 38/100\n",
      "50000/50000 [==============================] - 2s 46us/step - loss: 0.8197 - accuracy: 0.7064 - val_loss: 1.5789 - val_accuracy: 0.5092\n",
      "Epoch 39/100\n",
      "50000/50000 [==============================] - 2s 47us/step - loss: 0.8042 - accuracy: 0.7127 - val_loss: 1.6333 - val_accuracy: 0.5070\n",
      "Epoch 40/100\n",
      "50000/50000 [==============================] - 2s 48us/step - loss: 0.7977 - accuracy: 0.7154 - val_loss: 1.6717 - val_accuracy: 0.5025\n",
      "Epoch 41/100\n",
      "50000/50000 [==============================] - 2s 47us/step - loss: 0.7768 - accuracy: 0.7241 - val_loss: 1.6182 - val_accuracy: 0.5141\n",
      "Epoch 42/100\n",
      "50000/50000 [==============================] - 2s 46us/step - loss: 0.7642 - accuracy: 0.7257 - val_loss: 1.6321 - val_accuracy: 0.5140\n",
      "Epoch 43/100\n",
      "50000/50000 [==============================] - 2s 47us/step - loss: 0.7498 - accuracy: 0.7310 - val_loss: 1.6555 - val_accuracy: 0.5103\n",
      "Epoch 44/100\n",
      "50000/50000 [==============================] - 2s 47us/step - loss: 0.7303 - accuracy: 0.7377 - val_loss: 1.6856 - val_accuracy: 0.5104\n",
      "Epoch 45/100\n",
      "50000/50000 [==============================] - 2s 47us/step - loss: 0.7093 - accuracy: 0.7461 - val_loss: 1.7061 - val_accuracy: 0.5080\n",
      "Epoch 46/100\n",
      "50000/50000 [==============================] - 2s 47us/step - loss: 0.7062 - accuracy: 0.7454 - val_loss: 1.6929 - val_accuracy: 0.5141\n",
      "Epoch 47/100\n",
      "50000/50000 [==============================] - 2s 46us/step - loss: 0.6856 - accuracy: 0.7541 - val_loss: 1.7820 - val_accuracy: 0.5121\n",
      "Epoch 48/100\n",
      "50000/50000 [==============================] - 2s 46us/step - loss: 0.6905 - accuracy: 0.7514 - val_loss: 1.7492 - val_accuracy: 0.5122\n",
      "Epoch 49/100\n",
      "50000/50000 [==============================] - 2s 46us/step - loss: 0.6626 - accuracy: 0.7627 - val_loss: 1.7926 - val_accuracy: 0.5082\n",
      "Epoch 50/100\n",
      "50000/50000 [==============================] - 2s 47us/step - loss: 0.6428 - accuracy: 0.7707 - val_loss: 1.8251 - val_accuracy: 0.5041\n",
      "Epoch 51/100\n",
      "50000/50000 [==============================] - 2s 48us/step - loss: 0.6400 - accuracy: 0.7720 - val_loss: 1.8873 - val_accuracy: 0.5046\n",
      "Epoch 52/100\n",
      "50000/50000 [==============================] - 2s 48us/step - loss: 0.6239 - accuracy: 0.7769 - val_loss: 1.9019 - val_accuracy: 0.5032\n",
      "Epoch 53/100\n",
      "50000/50000 [==============================] - 2s 47us/step - loss: 0.6163 - accuracy: 0.7789 - val_loss: 1.8766 - val_accuracy: 0.5070\n",
      "Epoch 54/100\n",
      "50000/50000 [==============================] - 2s 48us/step - loss: 0.6041 - accuracy: 0.7836 - val_loss: 1.8810 - val_accuracy: 0.5098\n",
      "Epoch 55/100\n",
      "50000/50000 [==============================] - 2s 48us/step - loss: 0.5927 - accuracy: 0.7855 - val_loss: 1.9923 - val_accuracy: 0.4998\n"
     ]
    },
    {
     "name": "stdout",
     "output_type": "stream",
     "text": [
      "Epoch 56/100\n",
      "50000/50000 [==============================] - 2s 47us/step - loss: 0.5950 - accuracy: 0.7856 - val_loss: 1.9390 - val_accuracy: 0.5054\n",
      "Epoch 57/100\n",
      "50000/50000 [==============================] - 2s 47us/step - loss: 0.5839 - accuracy: 0.7926 - val_loss: 2.0225 - val_accuracy: 0.5031\n",
      "Epoch 58/100\n",
      "50000/50000 [==============================] - 2s 46us/step - loss: 0.5609 - accuracy: 0.7985 - val_loss: 1.9728 - val_accuracy: 0.5090\n",
      "Epoch 59/100\n",
      "50000/50000 [==============================] - 2s 47us/step - loss: 0.5592 - accuracy: 0.7993 - val_loss: 2.0628 - val_accuracy: 0.5027\n",
      "Epoch 60/100\n",
      "50000/50000 [==============================] - 2s 46us/step - loss: 0.5313 - accuracy: 0.8111 - val_loss: 2.0905 - val_accuracy: 0.5000\n",
      "Epoch 61/100\n",
      "50000/50000 [==============================] - 2s 46us/step - loss: 0.5329 - accuracy: 0.8095 - val_loss: 2.0272 - val_accuracy: 0.5140\n",
      "Epoch 62/100\n",
      "50000/50000 [==============================] - 2s 47us/step - loss: 0.5151 - accuracy: 0.8164 - val_loss: 2.1160 - val_accuracy: 0.5080\n",
      "Epoch 63/100\n",
      "50000/50000 [==============================] - 2s 47us/step - loss: 0.4990 - accuracy: 0.8221 - val_loss: 2.1563 - val_accuracy: 0.5010\n",
      "Epoch 64/100\n",
      "50000/50000 [==============================] - 2s 46us/step - loss: 0.4934 - accuracy: 0.8237 - val_loss: 2.1839 - val_accuracy: 0.5097\n",
      "Epoch 65/100\n",
      "50000/50000 [==============================] - 2s 46us/step - loss: 0.4931 - accuracy: 0.8236 - val_loss: 2.1793 - val_accuracy: 0.5010\n",
      "Epoch 66/100\n",
      "50000/50000 [==============================] - 2s 47us/step - loss: 0.4972 - accuracy: 0.8223 - val_loss: 2.2480 - val_accuracy: 0.5007\n",
      "Epoch 67/100\n",
      "50000/50000 [==============================] - 2s 47us/step - loss: 0.4824 - accuracy: 0.8260 - val_loss: 2.2540 - val_accuracy: 0.5027\n",
      "Epoch 68/100\n",
      "50000/50000 [==============================] - 2s 46us/step - loss: 0.4774 - accuracy: 0.8281 - val_loss: 2.2639 - val_accuracy: 0.5046\n",
      "Epoch 69/100\n",
      "50000/50000 [==============================] - 2s 46us/step - loss: 0.4626 - accuracy: 0.8338 - val_loss: 2.3149 - val_accuracy: 0.5059\n",
      "Epoch 70/100\n",
      "50000/50000 [==============================] - 2s 46us/step - loss: 0.4493 - accuracy: 0.8407 - val_loss: 2.3511 - val_accuracy: 0.5023\n",
      "Epoch 71/100\n",
      "50000/50000 [==============================] - 2s 47us/step - loss: 0.4463 - accuracy: 0.8397 - val_loss: 2.4114 - val_accuracy: 0.5000\n",
      "Epoch 72/100\n",
      "50000/50000 [==============================] - 2s 47us/step - loss: 0.4433 - accuracy: 0.8408 - val_loss: 2.4230 - val_accuracy: 0.4963\n",
      "Epoch 73/100\n",
      "50000/50000 [==============================] - 2s 46us/step - loss: 0.4393 - accuracy: 0.8439 - val_loss: 2.4294 - val_accuracy: 0.5050\n",
      "Epoch 74/100\n",
      "50000/50000 [==============================] - 2s 46us/step - loss: 0.4168 - accuracy: 0.8518 - val_loss: 2.4465 - val_accuracy: 0.5046\n",
      "Epoch 75/100\n",
      "50000/50000 [==============================] - 2s 47us/step - loss: 0.4203 - accuracy: 0.8503 - val_loss: 2.4602 - val_accuracy: 0.5044\n",
      "Epoch 76/100\n",
      "50000/50000 [==============================] - 2s 47us/step - loss: 0.4079 - accuracy: 0.8543 - val_loss: 2.5694 - val_accuracy: 0.4969\n",
      "Epoch 77/100\n",
      "50000/50000 [==============================] - 2s 47us/step - loss: 0.4147 - accuracy: 0.8502 - val_loss: 2.6073 - val_accuracy: 0.5052\n",
      "Epoch 78/100\n",
      "50000/50000 [==============================] - 2s 47us/step - loss: 0.3831 - accuracy: 0.8633 - val_loss: 2.6857 - val_accuracy: 0.4999\n",
      "Epoch 79/100\n",
      "50000/50000 [==============================] - 2s 46us/step - loss: 0.4137 - accuracy: 0.8502 - val_loss: 2.6565 - val_accuracy: 0.4928\n",
      "Epoch 80/100\n",
      "50000/50000 [==============================] - 2s 47us/step - loss: 0.3819 - accuracy: 0.8632 - val_loss: 2.6503 - val_accuracy: 0.5030\n",
      "Epoch 81/100\n",
      "50000/50000 [==============================] - 2s 47us/step - loss: 0.3732 - accuracy: 0.8664 - val_loss: 2.6894 - val_accuracy: 0.5013\n",
      "Epoch 82/100\n",
      "50000/50000 [==============================] - 2s 46us/step - loss: 0.3575 - accuracy: 0.8717 - val_loss: 2.6361 - val_accuracy: 0.5008\n",
      "Epoch 83/100\n",
      "50000/50000 [==============================] - 2s 46us/step - loss: 0.3715 - accuracy: 0.8670 - val_loss: 2.8360 - val_accuracy: 0.4985\n",
      "Epoch 84/100\n",
      "50000/50000 [==============================] - 2s 47us/step - loss: 0.3779 - accuracy: 0.8634 - val_loss: 2.7930 - val_accuracy: 0.4930\n",
      "Epoch 85/100\n",
      "50000/50000 [==============================] - 2s 47us/step - loss: 0.3488 - accuracy: 0.8753 - val_loss: 2.8858 - val_accuracy: 0.5004\n",
      "Epoch 86/100\n",
      "50000/50000 [==============================] - 2s 46us/step - loss: 0.3762 - accuracy: 0.8642 - val_loss: 2.8236 - val_accuracy: 0.4982\n",
      "Epoch 87/100\n",
      "50000/50000 [==============================] - 2s 47us/step - loss: 0.3502 - accuracy: 0.8741 - val_loss: 2.9586 - val_accuracy: 0.4968\n",
      "Epoch 88/100\n",
      "50000/50000 [==============================] - 2s 46us/step - loss: 0.3304 - accuracy: 0.8836 - val_loss: 2.9295 - val_accuracy: 0.5056\n",
      "Epoch 89/100\n",
      "50000/50000 [==============================] - 2s 46us/step - loss: 0.3395 - accuracy: 0.8779 - val_loss: 2.8995 - val_accuracy: 0.4991\n",
      "Epoch 90/100\n",
      "50000/50000 [==============================] - 2s 46us/step - loss: 0.3476 - accuracy: 0.8751 - val_loss: 2.9587 - val_accuracy: 0.4944\n",
      "Epoch 91/100\n",
      "50000/50000 [==============================] - 2s 47us/step - loss: 0.3311 - accuracy: 0.8800 - val_loss: 2.9549 - val_accuracy: 0.5000\n",
      "Epoch 92/100\n",
      "50000/50000 [==============================] - 2s 47us/step - loss: 0.3149 - accuracy: 0.8867 - val_loss: 2.9807 - val_accuracy: 0.5045\n",
      "Epoch 93/100\n",
      "50000/50000 [==============================] - 2s 46us/step - loss: 0.3190 - accuracy: 0.8859 - val_loss: 3.1450 - val_accuracy: 0.4946\n",
      "Epoch 94/100\n",
      "50000/50000 [==============================] - 2s 46us/step - loss: 0.3361 - accuracy: 0.8788 - val_loss: 3.0018 - val_accuracy: 0.4996\n",
      "Epoch 95/100\n",
      "50000/50000 [==============================] - 2s 47us/step - loss: 0.3159 - accuracy: 0.8854 - val_loss: 3.2477 - val_accuracy: 0.4948\n",
      "Epoch 96/100\n",
      "50000/50000 [==============================] - 2s 46us/step - loss: 0.3029 - accuracy: 0.8903 - val_loss: 3.2605 - val_accuracy: 0.4947\n",
      "Epoch 97/100\n",
      "50000/50000 [==============================] - 2s 46us/step - loss: 0.3275 - accuracy: 0.8822 - val_loss: 3.2304 - val_accuracy: 0.4971\n",
      "Epoch 98/100\n",
      "50000/50000 [==============================] - 2s 47us/step - loss: 0.2719 - accuracy: 0.9027 - val_loss: 3.2955 - val_accuracy: 0.4971\n",
      "Epoch 99/100\n",
      "50000/50000 [==============================] - 2s 46us/step - loss: 0.2934 - accuracy: 0.8955 - val_loss: 3.2633 - val_accuracy: 0.4860\n",
      "Epoch 100/100\n",
      "50000/50000 [==============================] - 2s 46us/step - loss: 0.3136 - accuracy: 0.8875 - val_loss: 3.3678 - val_accuracy: 0.4891\n"
     ]
    },
    {
     "data": {
      "text/plain": [
       "<keras.callbacks.callbacks.History at 0x1b2b2843278>"
      ]
     },
     "execution_count": 6,
     "metadata": {},
     "output_type": "execute_result"
    }
   ],
   "source": [
    "# 訓練模型並檢視驗證集的結果\n",
    "model.fit(x_train, y_train, \n",
    "          epochs=100, \n",
    "          batch_size=256, \n",
    "          validation_data=(x_test, y_test), \n",
    "          shuffle=True)"
   ]
  },
  {
   "cell_type": "code",
   "execution_count": 8,
   "metadata": {},
   "outputs": [
    {
     "data": {
      "image/png": "[encoded data removed]",
      "text/plain": [
       "<Figure size 432x288 with 1 Axes>"
      ]
     },
     "metadata": {
      "needs_background": "light"
     },
     "output_type": "display_data"
    },
    {
     "data": {
      "image/png": "[encoded data removed]",
      "text/plain": [
       "<Figure size 432x288 with 1 Axes>"
      ]
     },
     "metadata": {
      "needs_background": "light"
     },
     "output_type": "display_data"
    }
   ],
   "source": [
    "# 以視覺畫方式檢視訓練過程\n",
    "import matplotlib.pyplot as plt\n",
    "train_loss = model.history.history[\"loss\"]\n",
    "valid_loss = model.history.history[\"val_loss\"]\n",
    "\n",
    "train_acc = model.history.history[\"accuracy\"]\n",
    "valid_acc = model.history.history[\"val_accuracy\"]\n",
    "\n",
    "plt.plot(range(len(train_loss)), train_loss, label=\"train loss\")\n",
    "plt.plot(range(len(valid_loss)), valid_loss, label=\"valid loss\")\n",
    "plt.legend()\n",
    "plt.title(\"Loss\")\n",
    "plt.show()\n",
    "\n",
    "plt.plot(range(len(train_acc)), train_acc, label=\"train accuracy\")\n",
    "plt.plot(range(len(valid_acc)), valid_acc, label=\"valid accuracy\")\n",
    "plt.legend()\n",
    "plt.title(\"Accuracy\")\n",
    "plt.show()"
   ]
  },
  {
   "cell_type": "markdown",
   "metadata": {},
   "source": [
    "## 作業\n",
    "1. 請將 Epoch 加到 500 個，並觀察 learning curve 的走勢\n",
    "2. 請將 Optimizer 換成 SGD，並觀察 learning curve 的走勢"
   ]
  }
 ],
 "metadata": {
  "kernelspec": {
   "display_name": "Python 3",
   "language": "python",
   "name": "python3"
  },
  "language_info": {
   "codemirror_mode": {
    "name": "ipython",
    "version": 3
   },
   "file_extension": ".py",
   "mimetype": "text/x-python",
   "name": "python",
   "nbconvert_exporter": "python",
   "pygments_lexer": "ipython3",
   "version": "3.7.3"
  }
 },
 "nbformat": 4,
 "nbformat_minor": 2
}
