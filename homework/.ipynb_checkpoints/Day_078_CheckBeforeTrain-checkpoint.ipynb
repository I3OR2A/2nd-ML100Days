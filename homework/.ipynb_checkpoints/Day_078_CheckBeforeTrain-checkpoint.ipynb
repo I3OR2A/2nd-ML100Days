{
 "cells": [
  {
   "cell_type": "markdown",
   "metadata": {},
   "source": [
    "## 範例重點\n",
    "### 學習在模型開始前檢查各個環節\n",
    "1. 是否有 GPU 資源\n",
    "2. 將前處理轉為函式，統一處理訓練、驗證與測試集\n",
    "3. 將超參數變數化，易於重複使用函式、模型等"
   ]
  },
  {
   "cell_type": "code",
   "execution_count": 1,
   "metadata": {},
   "outputs": [
    {
     "name": "stdout",
     "output_type": "stream",
     "text": [
      "Sat Nov 02 15:42:54 2019       \n",
      "+-----------------------------------------------------------------------------+\n",
      "| NVIDIA-SMI 426.00       Driver Version: 426.00       CUDA Version: 10.1     |\n",
      "|-------------------------------+----------------------+----------------------+\n",
      "| GPU  Name            TCC/WDDM | Bus-Id        Disp.A | Volatile Uncorr. ECC |\n",
      "| Fan  Temp  Perf  Pwr:Usage/Cap|         Memory-Usage | GPU-Util  Compute M. |\n",
      "|===============================+======================+======================|\n",
      "|   0  GeForce GTX 1660   WDDM  | 00000000:01:00.0  On |                  N/A |\n",
      "|  0%   49C    P8     8W / 130W |    816MiB /  6144MiB |      1%      Default |\n",
      "+-------------------------------+----------------------+----------------------+\n",
      "                                                                               \n",
      "+-----------------------------------------------------------------------------+\n",
      "| Processes:                                                       GPU Memory |\n",
      "|  GPU       PID   Type   Process name                             Usage      |\n",
      "|=============================================================================|\n",
      "|    0      2036    C+G   ...osoft.LockApp_cw5n1h2txyewy\\LockApp.exe N/A      |\n",
      "|    0      2164    C+G   ...ttle.net\\.Battle.net.exe.770.19360.temp N/A      |\n",
      "|    0      3264    C+G   ...x64__8wekyb3d8bbwe\\Microsoft.Photos.exe N/A      |\n",
      "|    0      4732    C+G   ...ttle.net\\.Battle.net.exe.770.19360.temp N/A      |\n",
      "|    0      5840    C+G   ...6)\\Google\\Chrome\\Application\\chrome.exe N/A      |\n",
      "|    0      6576    C+G   ...DIA GeForce Experience\\NVIDIA Share.exe N/A      |\n",
      "|    0      7024    C+G   ...mmersiveControlPanel\\SystemSettings.exe N/A      |\n",
      "|    0      8324    C+G   ...t_cw5n1h2txyewy\\ShellExperienceHost.exe N/A      |\n",
      "|    0      8824    C+G   C:\\Windows\\explorer.exe                    N/A      |\n",
      "|    0      9160    C+G   ...oftEdge_8wekyb3d8bbwe\\MicrosoftEdge.exe N/A      |\n",
      "|    0      9508    C+G   ...tHubDesktop\\app-2.2.1\\GitHubDesktop.exe N/A      |\n",
      "|    0     10892    C+G   Insufficient Permissions                   N/A      |\n",
      "|    0     11148    C+G   ....469.0_x64__8wekyb3d8bbwe\\YourPhone.exe N/A      |\n",
      "|    0     11508    C+G   ...5n1h2txyewy\\StartMenuExperienceHost.exe N/A      |\n",
      "|    0     11776    C+G   ...hell.Experiences.TextInput.InputApp.exe N/A      |\n",
      "|    0     12236    C+G   ...53.85.0_x64__kzf8qxf38zg5c\\SkypeApp.exe N/A      |\n",
      "|    0     12420    C+G   ...DIA GeForce Experience\\NVIDIA Share.exe N/A      |\n",
      "|    0     12804    C+G   ...8.0.0_x64__8wekyb3d8bbwe\\Calculator.exe N/A      |\n",
      "|    0     18684    C+G   ...5.0_x64__8wekyb3d8bbwe\\WinStore.App.exe N/A      |\n",
      "|    0     18952    C+G   ...dows.Cortana_cw5n1h2txyewy\\SearchUI.exe N/A      |\n",
      "+-----------------------------------------------------------------------------+\n"
     ]
    }
   ],
   "source": [
    "## 確認硬體資源 (如果你是在 Linux, 若是在 Windows, 請參考 https://blog.csdn.net/idwtwt/article/details/78017565)\n",
    "!nvidia-smi"
   ]
  },
  {
   "cell_type": "code",
   "execution_count": 2,
   "metadata": {},
   "outputs": [
    {
     "name": "stderr",
     "output_type": "stream",
     "text": [
      "Using TensorFlow backend.\n"
     ]
    }
   ],
   "source": [
    "import os\n",
    "import keras\n",
    "\n",
    "# 本範例不需使用 GPU, 將 GPU 設定為 \"無\"\n",
    "os.environ[\"CUDA_VISIBLE_DEVICES\"] = \"\""
   ]
  },
  {
   "cell_type": "code",
   "execution_count": 3,
   "metadata": {},
   "outputs": [],
   "source": [
    "# 從 Keras 的內建功能中，取得 train 與 test 資料集\n",
    "train, test = keras.datasets.cifar10.load_data()"
   ]
  },
  {
   "cell_type": "code",
   "execution_count": 4,
   "metadata": {},
   "outputs": [],
   "source": [
    "## 資料前處理\n",
    "def preproc_x(x, flatten=True):\n",
    "    x = x / 255.\n",
    "    if flatten:\n",
    "        x = x.reshape((len(x), -1))\n",
    "    return x\n",
    "\n",
    "def preproc_y(y, num_classes=10):\n",
    "    if y.shape[-1] == 1:\n",
    "        y = keras.utils.to_categorical(y, num_classes)\n",
    "    return y    "
   ]
  },
  {
   "cell_type": "code",
   "execution_count": 5,
   "metadata": {},
   "outputs": [],
   "source": [
    "x_train, y_train = train\n",
    "x_test, y_test = test\n",
    "\n",
    "# 資料前處理 - X 標準化\n",
    "x_train = preproc_x(x_train)\n",
    "x_test = preproc_x(x_test)\n",
    "\n",
    "# 資料前處理 -Y 轉成 onehot\n",
    "y_train = preproc_y(y_train)\n",
    "y_test = preproc_y(y_test)"
   ]
  },
  {
   "cell_type": "code",
   "execution_count": 6,
   "metadata": {},
   "outputs": [],
   "source": [
    "def build_mlp(input_shape, output_units=10, num_neurons=[512, 256, 128]):\n",
    "    input_layer = keras.layers.Input(input_shape)\n",
    "    \n",
    "    for i, n_units in enumerate(num_neurons):\n",
    "        if i == 0:\n",
    "            x = keras.layers.Dense(units=n_units, activation=\"relu\", name=\"hidden_layer\"+str(i+1))(input_layer)\n",
    "        else:\n",
    "            x = keras.layers.Dense(units=n_units, activation=\"relu\", name=\"hidden_layer\"+str(i+1))(x)\n",
    "    \n",
    "    out = keras.layers.Dense(units=output_units, activation=\"softmax\", name=\"output\")(x)\n",
    "    \n",
    "    model = keras.models.Model(inputs=[input_layer], outputs=[out])\n",
    "    return model"
   ]
  },
  {
   "cell_type": "code",
   "execution_count": 7,
   "metadata": {},
   "outputs": [
    {
     "name": "stdout",
     "output_type": "stream",
     "text": [
      "Model: \"model_1\"\n",
      "_________________________________________________________________\n",
      "Layer (type)                 Output Shape              Param #   \n",
      "=================================================================\n",
      "input_1 (InputLayer)         (None, 3072)              0         \n",
      "_________________________________________________________________\n",
      "hidden_layer1 (Dense)        (None, 512)               1573376   \n",
      "_________________________________________________________________\n",
      "hidden_layer2 (Dense)        (None, 256)               131328    \n",
      "_________________________________________________________________\n",
      "hidden_layer3 (Dense)        (None, 128)               32896     \n",
      "_________________________________________________________________\n",
      "output (Dense)               (None, 10)                1290      \n",
      "=================================================================\n",
      "Total params: 1,738,890\n",
      "Trainable params: 1,738,890\n",
      "Non-trainable params: 0\n",
      "_________________________________________________________________\n"
     ]
    }
   ],
   "source": [
    "model = build_mlp(input_shape=x_train.shape[1:])\n",
    "model.summary()"
   ]
  },
  {
   "cell_type": "code",
   "execution_count": 8,
   "metadata": {},
   "outputs": [],
   "source": [
    "## 超參數設定\n",
    "LEARNING_RATE = 0.001\n",
    "EPOCHS = 100\n",
    "BATCH_SIZE = 256"
   ]
  },
  {
   "cell_type": "code",
   "execution_count": 9,
   "metadata": {},
   "outputs": [],
   "source": [
    "optimizer = keras.optimizers.Adam(lr=LEARNING_RATE)\n",
    "model.compile(loss=\"categorical_crossentropy\", metrics=[\"accuracy\"], optimizer=optimizer)"
   ]
  },
  {
   "cell_type": "code",
   "execution_count": 10,
   "metadata": {},
   "outputs": [
    {
     "name": "stdout",
     "output_type": "stream",
     "text": [
      "Train on 50000 samples, validate on 10000 samples\n",
      "Epoch 1/100\n",
      "50000/50000 [==============================] - 3s 56us/step - loss: 1.9473 - accuracy: 0.2972 - val_loss: 1.7767 - val_accuracy: 0.3707\n",
      "Epoch 2/100\n",
      "50000/50000 [==============================] - 2s 47us/step - loss: 1.7173 - accuracy: 0.3877 - val_loss: 1.6450 - val_accuracy: 0.4175\n",
      "Epoch 3/100\n",
      "50000/50000 [==============================] - 2s 47us/step - loss: 1.6129 - accuracy: 0.4254 - val_loss: 1.5993 - val_accuracy: 0.4314\n",
      "Epoch 4/100\n",
      "50000/50000 [==============================] - 2s 47us/step - loss: 1.5606 - accuracy: 0.4427 - val_loss: 1.5381 - val_accuracy: 0.4570\n",
      "Epoch 5/100\n",
      "50000/50000 [==============================] - 2s 48us/step - loss: 1.5110 - accuracy: 0.4624 - val_loss: 1.5146 - val_accuracy: 0.4556\n",
      "Epoch 6/100\n",
      "50000/50000 [==============================] - 2s 49us/step - loss: 1.4659 - accuracy: 0.4772 - val_loss: 1.4850 - val_accuracy: 0.4684\n",
      "Epoch 7/100\n",
      "50000/50000 [==============================] - 2s 48us/step - loss: 1.4394 - accuracy: 0.4881 - val_loss: 1.4498 - val_accuracy: 0.4844\n",
      "Epoch 8/100\n",
      "50000/50000 [==============================] - 2s 48us/step - loss: 1.4142 - accuracy: 0.4949 - val_loss: 1.4521 - val_accuracy: 0.4843\n",
      "Epoch 9/100\n",
      "50000/50000 [==============================] - 2s 48us/step - loss: 1.3767 - accuracy: 0.5088 - val_loss: 1.4089 - val_accuracy: 0.4990\n",
      "Epoch 10/100\n",
      "50000/50000 [==============================] - 2s 47us/step - loss: 1.3520 - accuracy: 0.5178 - val_loss: 1.4161 - val_accuracy: 0.4917\n",
      "Epoch 11/100\n",
      "50000/50000 [==============================] - 2s 48us/step - loss: 1.3302 - accuracy: 0.5261 - val_loss: 1.3989 - val_accuracy: 0.5018\n",
      "Epoch 12/100\n",
      "50000/50000 [==============================] - 2s 49us/step - loss: 1.3096 - accuracy: 0.5308 - val_loss: 1.4024 - val_accuracy: 0.4979\n",
      "Epoch 13/100\n",
      "50000/50000 [==============================] - 2s 49us/step - loss: 1.2917 - accuracy: 0.5427 - val_loss: 1.3800 - val_accuracy: 0.5149\n",
      "Epoch 14/100\n",
      "50000/50000 [==============================] - 2s 48us/step - loss: 1.2607 - accuracy: 0.5495 - val_loss: 1.4042 - val_accuracy: 0.5044\n",
      "Epoch 15/100\n",
      "50000/50000 [==============================] - 2s 47us/step - loss: 1.2360 - accuracy: 0.5608 - val_loss: 1.4130 - val_accuracy: 0.4955\n",
      "Epoch 16/100\n",
      "50000/50000 [==============================] - 2s 47us/step - loss: 1.2214 - accuracy: 0.5642 - val_loss: 1.3589 - val_accuracy: 0.5165\n",
      "Epoch 17/100\n",
      "50000/50000 [==============================] - 2s 48us/step - loss: 1.1973 - accuracy: 0.5739 - val_loss: 1.3559 - val_accuracy: 0.5231\n",
      "Epoch 18/100\n",
      "50000/50000 [==============================] - 2s 47us/step - loss: 1.1759 - accuracy: 0.5831 - val_loss: 1.3651 - val_accuracy: 0.5205\n",
      "Epoch 19/100\n",
      "50000/50000 [==============================] - 2s 47us/step - loss: 1.1633 - accuracy: 0.5849 - val_loss: 1.3417 - val_accuracy: 0.5337\n",
      "Epoch 20/100\n",
      "50000/50000 [==============================] - 2s 47us/step - loss: 1.1365 - accuracy: 0.5963 - val_loss: 1.3649 - val_accuracy: 0.5224\n",
      "Epoch 21/100\n",
      "50000/50000 [==============================] - 2s 47us/step - loss: 1.1220 - accuracy: 0.6008 - val_loss: 1.4389 - val_accuracy: 0.5056\n",
      "Epoch 22/100\n",
      "50000/50000 [==============================] - 2s 47us/step - loss: 1.1012 - accuracy: 0.6098 - val_loss: 1.3715 - val_accuracy: 0.5268\n",
      "Epoch 23/100\n",
      "50000/50000 [==============================] - 2s 47us/step - loss: 1.0828 - accuracy: 0.6149 - val_loss: 1.3751 - val_accuracy: 0.5256\n",
      "Epoch 24/100\n",
      "50000/50000 [==============================] - 2s 48us/step - loss: 1.0680 - accuracy: 0.6175 - val_loss: 1.4157 - val_accuracy: 0.5090\n",
      "Epoch 25/100\n",
      "50000/50000 [==============================] - 2s 47us/step - loss: 1.0326 - accuracy: 0.6323 - val_loss: 1.4071 - val_accuracy: 0.5152\n",
      "Epoch 26/100\n",
      "50000/50000 [==============================] - 2s 47us/step - loss: 1.0267 - accuracy: 0.6339 - val_loss: 1.3798 - val_accuracy: 0.5328\n",
      "Epoch 27/100\n",
      "50000/50000 [==============================] - 2s 48us/step - loss: 1.0055 - accuracy: 0.6429 - val_loss: 1.4482 - val_accuracy: 0.5126\n",
      "Epoch 28/100\n",
      "50000/50000 [==============================] - 2s 48us/step - loss: 0.9926 - accuracy: 0.6464 - val_loss: 1.4439 - val_accuracy: 0.5197\n",
      "Epoch 29/100\n",
      "50000/50000 [==============================] - 2s 47us/step - loss: 0.9849 - accuracy: 0.6489 - val_loss: 1.4209 - val_accuracy: 0.5235\n",
      "Epoch 30/100\n",
      "50000/50000 [==============================] - 2s 48us/step - loss: 0.9536 - accuracy: 0.6580 - val_loss: 1.4543 - val_accuracy: 0.5248\n",
      "Epoch 31/100\n",
      "50000/50000 [==============================] - 2s 48us/step - loss: 0.9460 - accuracy: 0.6618 - val_loss: 1.4350 - val_accuracy: 0.5257\n",
      "Epoch 32/100\n",
      "50000/50000 [==============================] - 2s 48us/step - loss: 0.9311 - accuracy: 0.6677 - val_loss: 1.4397 - val_accuracy: 0.5283\n",
      "Epoch 33/100\n",
      "50000/50000 [==============================] - 2s 48us/step - loss: 0.9010 - accuracy: 0.6789 - val_loss: 1.4165 - val_accuracy: 0.5281\n",
      "Epoch 34/100\n",
      "50000/50000 [==============================] - 2s 47us/step - loss: 0.8914 - accuracy: 0.6810 - val_loss: 1.4972 - val_accuracy: 0.5174\n",
      "Epoch 35/100\n",
      "50000/50000 [==============================] - 2s 47us/step - loss: 0.8755 - accuracy: 0.6855 - val_loss: 1.4741 - val_accuracy: 0.5297\n",
      "Epoch 36/100\n",
      "50000/50000 [==============================] - 2s 47us/step - loss: 0.8659 - accuracy: 0.6887 - val_loss: 1.4647 - val_accuracy: 0.5267\n",
      "Epoch 37/100\n",
      "50000/50000 [==============================] - 2s 48us/step - loss: 0.8409 - accuracy: 0.7023 - val_loss: 1.4915 - val_accuracy: 0.5276\n",
      "Epoch 38/100\n",
      "50000/50000 [==============================] - 2s 49us/step - loss: 0.8186 - accuracy: 0.7075 - val_loss: 1.5119 - val_accuracy: 0.5230\n",
      "Epoch 39/100\n",
      "50000/50000 [==============================] - 2s 47us/step - loss: 0.8096 - accuracy: 0.7120 - val_loss: 1.5536 - val_accuracy: 0.5152\n",
      "Epoch 40/100\n",
      "50000/50000 [==============================] - 2s 47us/step - loss: 0.8019 - accuracy: 0.7123 - val_loss: 1.5330 - val_accuracy: 0.5232\n",
      "Epoch 41/100\n",
      "50000/50000 [==============================] - 2s 48us/step - loss: 0.7677 - accuracy: 0.7250 - val_loss: 1.5657 - val_accuracy: 0.5234\n",
      "Epoch 42/100\n",
      "50000/50000 [==============================] - 2s 50us/step - loss: 0.7696 - accuracy: 0.7256 - val_loss: 1.6068 - val_accuracy: 0.5196\n",
      "Epoch 43/100\n",
      "50000/50000 [==============================] - 2s 50us/step - loss: 0.7567 - accuracy: 0.7297 - val_loss: 1.6234 - val_accuracy: 0.5175\n",
      "Epoch 44/100\n",
      "50000/50000 [==============================] - 2s 48us/step - loss: 0.7445 - accuracy: 0.7349 - val_loss: 1.6644 - val_accuracy: 0.5088\n",
      "Epoch 45/100\n",
      "50000/50000 [==============================] - 2s 48us/step - loss: 0.7302 - accuracy: 0.7392 - val_loss: 1.6288 - val_accuracy: 0.5297\n",
      "Epoch 46/100\n",
      "50000/50000 [==============================] - 2s 48us/step - loss: 0.7163 - accuracy: 0.7430 - val_loss: 1.6424 - val_accuracy: 0.5231\n",
      "Epoch 47/100\n",
      "50000/50000 [==============================] - 2s 47us/step - loss: 0.6902 - accuracy: 0.7535 - val_loss: 1.6548 - val_accuracy: 0.5203\n",
      "Epoch 48/100\n",
      "50000/50000 [==============================] - 2s 47us/step - loss: 0.6878 - accuracy: 0.7527 - val_loss: 1.6876 - val_accuracy: 0.5238\n",
      "Epoch 49/100\n",
      "50000/50000 [==============================] - 2s 47us/step - loss: 0.6684 - accuracy: 0.7613 - val_loss: 1.7677 - val_accuracy: 0.5127\n",
      "Epoch 50/100\n",
      "50000/50000 [==============================] - 2s 47us/step - loss: 0.6566 - accuracy: 0.7640 - val_loss: 1.7019 - val_accuracy: 0.5244\n",
      "Epoch 51/100\n",
      "50000/50000 [==============================] - 2s 47us/step - loss: 0.6433 - accuracy: 0.7713 - val_loss: 1.7405 - val_accuracy: 0.5158\n",
      "Epoch 52/100\n",
      "50000/50000 [==============================] - 2s 48us/step - loss: 0.6339 - accuracy: 0.7727 - val_loss: 1.7846 - val_accuracy: 0.5193\n",
      "Epoch 53/100\n",
      "50000/50000 [==============================] - 2s 48us/step - loss: 0.6179 - accuracy: 0.7787 - val_loss: 1.8357 - val_accuracy: 0.5149\n",
      "Epoch 54/100\n",
      "50000/50000 [==============================] - 2s 48us/step - loss: 0.6090 - accuracy: 0.7829 - val_loss: 1.9117 - val_accuracy: 0.5162\n",
      "Epoch 55/100\n",
      "50000/50000 [==============================] - 2s 48us/step - loss: 0.5981 - accuracy: 0.7857 - val_loss: 1.8996 - val_accuracy: 0.5209\n"
     ]
    },
    {
     "name": "stdout",
     "output_type": "stream",
     "text": [
      "Epoch 56/100\n",
      "50000/50000 [==============================] - 2s 49us/step - loss: 0.5917 - accuracy: 0.7889 - val_loss: 1.9102 - val_accuracy: 0.5154\n",
      "Epoch 57/100\n",
      "50000/50000 [==============================] - 3s 50us/step - loss: 0.5636 - accuracy: 0.7995 - val_loss: 1.9342 - val_accuracy: 0.5139\n",
      "Epoch 58/100\n",
      "50000/50000 [==============================] - 2s 48us/step - loss: 0.5576 - accuracy: 0.8007 - val_loss: 1.9352 - val_accuracy: 0.5205\n",
      "Epoch 59/100\n",
      "50000/50000 [==============================] - 2s 48us/step - loss: 0.5561 - accuracy: 0.7997 - val_loss: 1.9877 - val_accuracy: 0.5156\n",
      "Epoch 60/100\n",
      "50000/50000 [==============================] - 2s 49us/step - loss: 0.5410 - accuracy: 0.8053 - val_loss: 2.0335 - val_accuracy: 0.5125\n",
      "Epoch 61/100\n",
      "50000/50000 [==============================] - 2s 46us/step - loss: 0.5437 - accuracy: 0.8047 - val_loss: 2.0031 - val_accuracy: 0.5191\n",
      "Epoch 62/100\n",
      "50000/50000 [==============================] - 2s 46us/step - loss: 0.5189 - accuracy: 0.8135 - val_loss: 2.0948 - val_accuracy: 0.5031\n",
      "Epoch 63/100\n",
      "50000/50000 [==============================] - 2s 47us/step - loss: 0.5211 - accuracy: 0.8138 - val_loss: 2.0923 - val_accuracy: 0.5077\n",
      "Epoch 64/100\n",
      "50000/50000 [==============================] - 2s 46us/step - loss: 0.4975 - accuracy: 0.8202 - val_loss: 2.1311 - val_accuracy: 0.5020\n",
      "Epoch 65/100\n",
      "50000/50000 [==============================] - 2s 48us/step - loss: 0.5080 - accuracy: 0.8175 - val_loss: 2.1295 - val_accuracy: 0.5042\n",
      "Epoch 66/100\n",
      "50000/50000 [==============================] - 2s 48us/step - loss: 0.5009 - accuracy: 0.8196 - val_loss: 2.1322 - val_accuracy: 0.5126\n",
      "Epoch 67/100\n",
      "50000/50000 [==============================] - 2s 48us/step - loss: 0.4891 - accuracy: 0.8242 - val_loss: 2.2729 - val_accuracy: 0.5167\n",
      "Epoch 68/100\n",
      "50000/50000 [==============================] - 2s 48us/step - loss: 0.4674 - accuracy: 0.8336 - val_loss: 2.1813 - val_accuracy: 0.5158\n",
      "Epoch 69/100\n",
      "50000/50000 [==============================] - 2s 47us/step - loss: 0.4611 - accuracy: 0.8350 - val_loss: 2.1909 - val_accuracy: 0.5143\n",
      "Epoch 70/100\n",
      "50000/50000 [==============================] - 2s 46us/step - loss: 0.4558 - accuracy: 0.8349 - val_loss: 2.2320 - val_accuracy: 0.5176\n",
      "Epoch 71/100\n",
      "50000/50000 [==============================] - 2s 47us/step - loss: 0.4543 - accuracy: 0.8363 - val_loss: 2.2730 - val_accuracy: 0.5117\n",
      "Epoch 72/100\n",
      "50000/50000 [==============================] - 2s 46us/step - loss: 0.4452 - accuracy: 0.8388 - val_loss: 2.2810 - val_accuracy: 0.5066\n",
      "Epoch 73/100\n",
      "50000/50000 [==============================] - 2s 47us/step - loss: 0.4281 - accuracy: 0.8465 - val_loss: 2.4994 - val_accuracy: 0.5021\n",
      "Epoch 74/100\n",
      "50000/50000 [==============================] - 2s 46us/step - loss: 0.4266 - accuracy: 0.8481 - val_loss: 2.4013 - val_accuracy: 0.5078\n",
      "Epoch 75/100\n",
      "50000/50000 [==============================] - 2s 46us/step - loss: 0.3970 - accuracy: 0.8583 - val_loss: 2.4508 - val_accuracy: 0.5120\n",
      "Epoch 76/100\n",
      "50000/50000 [==============================] - 2s 47us/step - loss: 0.4331 - accuracy: 0.8425 - val_loss: 2.4252 - val_accuracy: 0.5137\n",
      "Epoch 77/100\n",
      "50000/50000 [==============================] - 2s 46us/step - loss: 0.4077 - accuracy: 0.8547 - val_loss: 2.4082 - val_accuracy: 0.5128\n",
      "Epoch 78/100\n",
      "50000/50000 [==============================] - 2s 46us/step - loss: 0.4144 - accuracy: 0.8502 - val_loss: 2.5184 - val_accuracy: 0.5062\n",
      "Epoch 79/100\n",
      "50000/50000 [==============================] - 2s 46us/step - loss: 0.4057 - accuracy: 0.8535 - val_loss: 2.5545 - val_accuracy: 0.5029\n",
      "Epoch 80/100\n",
      "50000/50000 [==============================] - 2s 47us/step - loss: 0.3776 - accuracy: 0.8637 - val_loss: 2.5275 - val_accuracy: 0.5120\n",
      "Epoch 81/100\n",
      "50000/50000 [==============================] - 2s 47us/step - loss: 0.3877 - accuracy: 0.8612 - val_loss: 2.6345 - val_accuracy: 0.5048\n",
      "Epoch 82/100\n",
      "50000/50000 [==============================] - 2s 47us/step - loss: 0.3781 - accuracy: 0.8642 - val_loss: 2.6428 - val_accuracy: 0.5021\n",
      "Epoch 83/100\n",
      "50000/50000 [==============================] - 2s 47us/step - loss: 0.3718 - accuracy: 0.8674 - val_loss: 2.6410 - val_accuracy: 0.5095\n",
      "Epoch 84/100\n",
      "50000/50000 [==============================] - 2s 47us/step - loss: 0.3766 - accuracy: 0.8634 - val_loss: 2.7503 - val_accuracy: 0.5003\n",
      "Epoch 85/100\n",
      "50000/50000 [==============================] - 2s 47us/step - loss: 0.3607 - accuracy: 0.8683 - val_loss: 2.7011 - val_accuracy: 0.5069\n",
      "Epoch 86/100\n",
      "50000/50000 [==============================] - 2s 47us/step - loss: 0.3820 - accuracy: 0.8623 - val_loss: 2.7461 - val_accuracy: 0.5087\n",
      "Epoch 87/100\n",
      "50000/50000 [==============================] - 2s 47us/step - loss: 0.3665 - accuracy: 0.8684 - val_loss: 2.7090 - val_accuracy: 0.5083\n",
      "Epoch 88/100\n",
      "50000/50000 [==============================] - 2s 47us/step - loss: 0.3426 - accuracy: 0.8770 - val_loss: 2.9132 - val_accuracy: 0.5061\n",
      "Epoch 89/100\n",
      "50000/50000 [==============================] - 2s 47us/step - loss: 0.3369 - accuracy: 0.8799 - val_loss: 2.8935 - val_accuracy: 0.4990\n",
      "Epoch 90/100\n",
      "50000/50000 [==============================] - 2s 47us/step - loss: 0.3431 - accuracy: 0.8768 - val_loss: 2.8895 - val_accuracy: 0.5029\n",
      "Epoch 91/100\n",
      "50000/50000 [==============================] - 2s 47us/step - loss: 0.3430 - accuracy: 0.8764 - val_loss: 2.9402 - val_accuracy: 0.4989\n",
      "Epoch 92/100\n",
      "50000/50000 [==============================] - 2s 47us/step - loss: 0.3206 - accuracy: 0.8855 - val_loss: 2.8918 - val_accuracy: 0.5120\n",
      "Epoch 93/100\n",
      "50000/50000 [==============================] - 2s 47us/step - loss: 0.3211 - accuracy: 0.8854 - val_loss: 2.9566 - val_accuracy: 0.4966\n",
      "Epoch 94/100\n",
      "50000/50000 [==============================] - 2s 48us/step - loss: 0.3465 - accuracy: 0.8737 - val_loss: 2.9673 - val_accuracy: 0.5035\n",
      "Epoch 95/100\n",
      "50000/50000 [==============================] - 2s 48us/step - loss: 0.3214 - accuracy: 0.8839 - val_loss: 3.0620 - val_accuracy: 0.5037\n",
      "Epoch 96/100\n",
      "50000/50000 [==============================] - 2s 47us/step - loss: 0.3045 - accuracy: 0.8913 - val_loss: 3.1046 - val_accuracy: 0.5082\n",
      "Epoch 97/100\n",
      "50000/50000 [==============================] - 2s 48us/step - loss: 0.3266 - accuracy: 0.8826 - val_loss: 3.1568 - val_accuracy: 0.4898\n",
      "Epoch 98/100\n",
      "50000/50000 [==============================] - 2s 47us/step - loss: 0.3046 - accuracy: 0.8888 - val_loss: 3.1302 - val_accuracy: 0.5039\n",
      "Epoch 99/100\n",
      "50000/50000 [==============================] - 2s 47us/step - loss: 0.3040 - accuracy: 0.8903 - val_loss: 3.0681 - val_accuracy: 0.5033\n",
      "Epoch 100/100\n",
      "50000/50000 [==============================] - 2s 46us/step - loss: 0.2957 - accuracy: 0.8926 - val_loss: 3.3137 - val_accuracy: 0.5002\n"
     ]
    },
    {
     "data": {
      "text/plain": [
       "<keras.callbacks.callbacks.History at 0x206f6a4f0f0>"
      ]
     },
     "execution_count": 10,
     "metadata": {},
     "output_type": "execute_result"
    }
   ],
   "source": [
    "model.fit(x_train, y_train, \n",
    "          epochs=EPOCHS, \n",
    "          batch_size=BATCH_SIZE, \n",
    "          validation_data=(x_test, y_test), \n",
    "          shuffle=True)"
   ]
  },
  {
   "cell_type": "code",
   "execution_count": 12,
   "metadata": {},
   "outputs": [
    {
     "data": {
      "image/png": "[encoded data removed]",
      "text/plain": [
       "<Figure size 432x288 with 1 Axes>"
      ]
     },
     "metadata": {
      "needs_background": "light"
     },
     "output_type": "display_data"
    },
    {
     "data": {
      "image/png": "[encoded data removed]",
      "text/plain": [
       "<Figure size 432x288 with 1 Axes>"
      ]
     },
     "metadata": {
      "needs_background": "light"
     },
     "output_type": "display_data"
    }
   ],
   "source": [
    "# 訓練模型並檢視驗證集的結果\n",
    "import matplotlib.pyplot as plt\n",
    "\n",
    "train_loss = model.history.history[\"loss\"]\n",
    "valid_loss = model.history.history[\"val_loss\"]\n",
    "\n",
    "train_acc = model.history.history[\"accuracy\"]\n",
    "valid_acc = model.history.history[\"val_accuracy\"]\n",
    "\n",
    "plt.plot(range(len(train_loss)), train_loss, label=\"train loss\")\n",
    "plt.plot(range(len(valid_loss)), valid_loss, label=\"valid loss\")\n",
    "plt.legend()\n",
    "plt.title(\"Loss\")\n",
    "plt.show()\n",
    "\n",
    "plt.plot(range(len(train_acc)), train_acc, label=\"train accuracy\")\n",
    "plt.plot(range(len(valid_acc)), valid_acc, label=\"valid accuracy\")\n",
    "plt.legend()\n",
    "plt.title(\"Accuracy\")\n",
    "plt.show()"
   ]
  },
  {
   "cell_type": "markdown",
   "metadata": {},
   "source": [
    "## Work\n",
    "1. 請嘗試將 preproc_x 替換成以每筆資料的 min/max 進行標準化至 -1 ~ 1 間，再進行訓練\n",
    "2. 請嘗試將 mlp 疊更深 (e.g 5~10 層)，進行訓練後觀察 learning curve 的走勢\n",
    "3. (optional) 請改用 GPU 進行訓練 (如果你有 GPU 的話)，比較使用 CPU 與 GPU 的訓練速度"
   ]
  }
 ],
 "metadata": {
  "kernelspec": {
   "display_name": "Python 3",
   "language": "python",
   "name": "python3"
  },
  "language_info": {
   "codemirror_mode": {
    "name": "ipython",
    "version": 3
   },
   "file_extension": ".py",
   "mimetype": "text/x-python",
   "name": "python",
   "nbconvert_exporter": "python",
   "pygments_lexer": "ipython3",
   "version": "3.7.3"
  }
 },
 "nbformat": 4,
 "nbformat_minor": 2
}
