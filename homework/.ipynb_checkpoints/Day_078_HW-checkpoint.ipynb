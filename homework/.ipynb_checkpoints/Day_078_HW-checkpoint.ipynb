{
 "cells": [
  {
   "cell_type": "markdown",
   "metadata": {},
   "source": [
    "## Work\n",
    "1. 請嘗試將 preproc_x 替換成以每筆資料的 min/max 進行標準化至 -1 ~ 1 間，再進行訓練\n",
    "2. 請嘗試將 mlp 疊更深 (e.g 5~10 層)，進行訓練後觀察 learning curve 的走勢\n",
    "3. (optional) 請改用 GPU 進行訓練 (如果你有 GPU 的話)，比較使用 CPU 與 GPU 的訓練速度"
   ]
  },
  {
   "cell_type": "code",
   "execution_count": 1,
   "metadata": {},
   "outputs": [
    {
     "name": "stdout",
     "output_type": "stream",
     "text": [
      "Sat Nov 02 16:02:17 2019       \n",
      "+-----------------------------------------------------------------------------+\n",
      "| NVIDIA-SMI 426.00       Driver Version: 426.00       CUDA Version: 10.1     |\n",
      "|-------------------------------+----------------------+----------------------+\n",
      "| GPU  Name            TCC/WDDM | Bus-Id        Disp.A | Volatile Uncorr. ECC |\n",
      "| Fan  Temp  Perf  Pwr:Usage/Cap|         Memory-Usage | GPU-Util  Compute M. |\n",
      "|===============================+======================+======================|\n",
      "|   0  GeForce GTX 1660   WDDM  | 00000000:01:00.0  On |                  N/A |\n",
      "| 49%   51C    P0    23W / 130W |    821MiB /  6144MiB |      1%      Default |\n",
      "+-------------------------------+----------------------+----------------------+\n",
      "                                                                               \n",
      "+-----------------------------------------------------------------------------+\n",
      "| Processes:                                                       GPU Memory |\n",
      "|  GPU       PID   Type   Process name                             Usage      |\n",
      "|=============================================================================|\n",
      "|    0      2036    C+G   ...osoft.LockApp_cw5n1h2txyewy\\LockApp.exe N/A      |\n",
      "|    0      2164    C+G   ...ttle.net\\.Battle.net.exe.770.19360.temp N/A      |\n",
      "|    0      3264    C+G   ...x64__8wekyb3d8bbwe\\Microsoft.Photos.exe N/A      |\n",
      "|    0      4732    C+G   ...ttle.net\\.Battle.net.exe.770.19360.temp N/A      |\n",
      "|    0      5840    C+G   ...6)\\Google\\Chrome\\Application\\chrome.exe N/A      |\n",
      "|    0      6576    C+G   ...DIA GeForce Experience\\NVIDIA Share.exe N/A      |\n",
      "|    0      7024    C+G   ...mmersiveControlPanel\\SystemSettings.exe N/A      |\n",
      "|    0      8324    C+G   ...t_cw5n1h2txyewy\\ShellExperienceHost.exe N/A      |\n",
      "|    0      8824    C+G   C:\\Windows\\explorer.exe                    N/A      |\n",
      "|    0      9160    C+G   ...oftEdge_8wekyb3d8bbwe\\MicrosoftEdge.exe N/A      |\n",
      "|    0      9508    C+G   ...tHubDesktop\\app-2.2.1\\GitHubDesktop.exe N/A      |\n",
      "|    0     10892    C+G   Insufficient Permissions                   N/A      |\n",
      "|    0     11148    C+G   ....469.0_x64__8wekyb3d8bbwe\\YourPhone.exe N/A      |\n",
      "|    0     11508    C+G   ...5n1h2txyewy\\StartMenuExperienceHost.exe N/A      |\n",
      "|    0     11776    C+G   ...hell.Experiences.TextInput.InputApp.exe N/A      |\n",
      "|    0     12236    C+G   ...53.85.0_x64__kzf8qxf38zg5c\\SkypeApp.exe N/A      |\n",
      "|    0     12420    C+G   ...DIA GeForce Experience\\NVIDIA Share.exe N/A      |\n",
      "|    0     12804    C+G   ...8.0.0_x64__8wekyb3d8bbwe\\Calculator.exe N/A      |\n",
      "|    0     18684    C+G   ...5.0_x64__8wekyb3d8bbwe\\WinStore.App.exe N/A      |\n",
      "|    0     18952    C+G   ...dows.Cortana_cw5n1h2txyewy\\SearchUI.exe N/A      |\n",
      "+-----------------------------------------------------------------------------+\n"
     ]
    }
   ],
   "source": [
    "## 確認硬體資源 (如果你是在 Linux, 若是在 Windows, 請參考 https://blog.csdn.net/idwtwt/article/details/78017565)\n",
    "\"\"\"\n",
    "Your code here (optional)\n",
    "確認硬體資源\n",
    "\"\"\"\n",
    "!nvidia-smi"
   ]
  },
  {
   "cell_type": "code",
   "execution_count": 2,
   "metadata": {},
   "outputs": [
    {
     "name": "stderr",
     "output_type": "stream",
     "text": [
      "Using TensorFlow backend.\n"
     ]
    }
   ],
   "source": [
    "import os\n",
    "import keras\n",
    "\n",
    "# 請嘗試設定 GPU：os.environ\n",
    "os.environ[\"CUDA_VISIBLE_DEVICES\"] = \"\""
   ]
  },
  {
   "cell_type": "code",
   "execution_count": 3,
   "metadata": {},
   "outputs": [],
   "source": [
    "# 從 Keras 的內建功能中，取得 train 與 test 資料集\n",
    "train, test = keras.datasets.cifar10.load_data() "
   ]
  },
  {
   "cell_type": "code",
   "execution_count": 4,
   "metadata": {},
   "outputs": [],
   "source": [
    "## 資料前處理\n",
    "import numpy as np\n",
    "\"\"\"\n",
    "Your code here\n",
    "\"\"\"\n",
    "def preproc_x(x, flatten=True):\n",
    "    (x-np.mean(x))/np.std(x)\n",
    "    if flatten:\n",
    "        x = x.reshape((len(x), -1))\n",
    "    return x\n",
    "\n",
    "def preproc_y(y, num_classes=10):\n",
    "    if y.shape[-1] == 1:\n",
    "        y = keras.utils.to_categorical(y, num_classes)\n",
    "    return y"
   ]
  },
  {
   "cell_type": "code",
   "execution_count": 5,
   "metadata": {},
   "outputs": [],
   "source": [
    "x_train, y_train = train\n",
    "x_test, y_test = test\n",
    "\n",
    "# Preproc the inputs\n",
    "x_train = preproc_x(x_train)\n",
    "x_test = preproc_x(x_test)\n",
    "\n",
    "# Preprc the outputs\n",
    "y_train = preproc_y(y_train)\n",
    "y_test = preproc_y(y_test)"
   ]
  },
  {
   "cell_type": "code",
   "execution_count": 6,
   "metadata": {},
   "outputs": [
    {
     "name": "stdout",
     "output_type": "stream",
     "text": [
      "Model: \"model_1\"\n",
      "_________________________________________________________________\n",
      "Layer (type)                 Output Shape              Param #   \n",
      "=================================================================\n",
      "input_1 (InputLayer)         (None, 3072)              0         \n",
      "_________________________________________________________________\n",
      "hidden_layer1 (Dense)        (None, 512)               1573376   \n",
      "_________________________________________________________________\n",
      "hidden_layer2 (Dense)        (None, 256)               131328    \n",
      "_________________________________________________________________\n",
      "hidden_layer3 (Dense)        (None, 128)               32896     \n",
      "_________________________________________________________________\n",
      "output (Dense)               (None, 10)                1290      \n",
      "=================================================================\n",
      "Total params: 1,738,890\n",
      "Trainable params: 1,738,890\n",
      "Non-trainable params: 0\n",
      "_________________________________________________________________\n"
     ]
    }
   ],
   "source": [
    "\"\"\"Code Here\n",
    "建立你的神經網路\n",
    "\"\"\"\n",
    "def build_mlp(input_shape, output_units=10, num_neurons=[512, 256, 128]):\n",
    "    input_layer = keras.layers.Input(input_shape)\n",
    "    \n",
    "    for i, n_units in enumerate(num_neurons):\n",
    "        if i == 0:\n",
    "            x = keras.layers.Dense(units=n_units, activation=\"relu\", name=\"hidden_layer\"+str(i+1))(input_layer)\n",
    "        else:\n",
    "            x = keras.layers.Dense(units=n_units, activation=\"relu\", name=\"hidden_layer\"+str(i+1))(x)\n",
    "    \n",
    "    out = keras.layers.Dense(units=output_units, activation=\"softmax\", name=\"output\")(x)\n",
    "    \n",
    "    model = keras.models.Model(inputs=[input_layer], outputs=[out])\n",
    "    return model\n",
    "\n",
    "model = build_mlp(input_shape=x_train.shape[1:])\n",
    "model.summary()"
   ]
  },
  {
   "cell_type": "code",
   "execution_count": 7,
   "metadata": {},
   "outputs": [],
   "source": [
    "## 超參數設定\n",
    "LEARNING_RATE = 0.001\n",
    "EPOCHS = 100\n",
    "BATCH_SIZE = 256"
   ]
  },
  {
   "cell_type": "code",
   "execution_count": 8,
   "metadata": {},
   "outputs": [],
   "source": [
    "optimizer = keras.optimizers.Adam(lr=LEARNING_RATE)\n",
    "model.compile(loss=\"categorical_crossentropy\", metrics=[\"accuracy\"], optimizer=optimizer)"
   ]
  },
  {
   "cell_type": "code",
   "execution_count": 9,
   "metadata": {},
   "outputs": [
    {
     "name": "stdout",
     "output_type": "stream",
     "text": [
      "Train on 50000 samples, validate on 10000 samples\n",
      "Epoch 1/100\n",
      "50000/50000 [==============================] - 2s 40us/step - loss: 80.0609 - accuracy: 0.1724 - val_loss: 10.4484 - val_accuracy: 0.2136\n",
      "Epoch 2/100\n",
      "50000/50000 [==============================] - 2s 30us/step - loss: 6.5031 - accuracy: 0.2391 - val_loss: 5.2463 - val_accuracy: 0.2348\n",
      "Epoch 3/100\n",
      "50000/50000 [==============================] - 2s 31us/step - loss: 4.6163 - accuracy: 0.2436 - val_loss: 3.2126 - val_accuracy: 0.2875\n",
      "Epoch 4/100\n",
      "50000/50000 [==============================] - 2s 31us/step - loss: 2.6889 - accuracy: 0.2899 - val_loss: 2.7116 - val_accuracy: 0.2582\n",
      "Epoch 5/100\n",
      "50000/50000 [==============================] - 2s 31us/step - loss: 2.2878 - accuracy: 0.3155 - val_loss: 2.0588 - val_accuracy: 0.3288\n",
      "Epoch 6/100\n",
      "50000/50000 [==============================] - 2s 32us/step - loss: 2.1395 - accuracy: 0.3292 - val_loss: 2.4886 - val_accuracy: 0.2801\n",
      "Epoch 7/100\n",
      "50000/50000 [==============================] - 2s 32us/step - loss: 1.9687 - accuracy: 0.3472 - val_loss: 1.9840 - val_accuracy: 0.3408\n",
      "Epoch 8/100\n",
      "50000/50000 [==============================] - 2s 31us/step - loss: 1.9661 - accuracy: 0.3523 - val_loss: 1.9600 - val_accuracy: 0.3445\n",
      "Epoch 9/100\n",
      "50000/50000 [==============================] - 2s 31us/step - loss: 1.8254 - accuracy: 0.3784 - val_loss: 1.8336 - val_accuracy: 0.3582\n",
      "Epoch 10/100\n",
      "50000/50000 [==============================] - 2s 30us/step - loss: 1.7767 - accuracy: 0.3890 - val_loss: 1.8223 - val_accuracy: 0.3692\n",
      "Epoch 11/100\n",
      "50000/50000 [==============================] - 2s 31us/step - loss: 1.7540 - accuracy: 0.3944 - val_loss: 1.8168 - val_accuracy: 0.3738\n",
      "Epoch 12/100\n",
      "50000/50000 [==============================] - 2s 31us/step - loss: 1.7089 - accuracy: 0.4077 - val_loss: 1.7448 - val_accuracy: 0.3995\n",
      "Epoch 13/100\n",
      "50000/50000 [==============================] - 2s 31us/step - loss: 1.6779 - accuracy: 0.4153 - val_loss: 1.7800 - val_accuracy: 0.3840\n",
      "Epoch 14/100\n",
      "50000/50000 [==============================] - 2s 30us/step - loss: 1.6552 - accuracy: 0.4224 - val_loss: 1.7665 - val_accuracy: 0.3799\n",
      "Epoch 15/100\n",
      "50000/50000 [==============================] - 2s 32us/step - loss: 1.6384 - accuracy: 0.4285 - val_loss: 1.7117 - val_accuracy: 0.4028\n",
      "Epoch 16/100\n",
      "50000/50000 [==============================] - 2s 32us/step - loss: 1.6498 - accuracy: 0.4236 - val_loss: 1.6589 - val_accuracy: 0.4173\n",
      "Epoch 17/100\n",
      "50000/50000 [==============================] - 2s 30us/step - loss: 1.5892 - accuracy: 0.4421 - val_loss: 1.7207 - val_accuracy: 0.3992\n",
      "Epoch 18/100\n",
      "50000/50000 [==============================] - 2s 32us/step - loss: 1.6110 - accuracy: 0.4345 - val_loss: 1.7555 - val_accuracy: 0.3952\n",
      "Epoch 19/100\n",
      "50000/50000 [==============================] - 2s 34us/step - loss: 1.6026 - accuracy: 0.4375 - val_loss: 1.7150 - val_accuracy: 0.3964\n",
      "Epoch 20/100\n",
      "50000/50000 [==============================] - 2s 33us/step - loss: 1.6244 - accuracy: 0.4314 - val_loss: 1.7192 - val_accuracy: 0.4111\n",
      "Epoch 21/100\n",
      "50000/50000 [==============================] - 2s 33us/step - loss: 1.6131 - accuracy: 0.4338 - val_loss: 1.6184 - val_accuracy: 0.4317\n",
      "Epoch 22/100\n",
      "50000/50000 [==============================] - 2s 32us/step - loss: 1.5662 - accuracy: 0.4472 - val_loss: 1.6036 - val_accuracy: 0.4429\n",
      "Epoch 23/100\n",
      "50000/50000 [==============================] - 2s 32us/step - loss: 1.5932 - accuracy: 0.4382 - val_loss: 1.6252 - val_accuracy: 0.4307\n",
      "Epoch 24/100\n",
      "50000/50000 [==============================] - 2s 32us/step - loss: 1.5769 - accuracy: 0.4460 - val_loss: 1.6364 - val_accuracy: 0.4164\n",
      "Epoch 25/100\n",
      "50000/50000 [==============================] - 2s 32us/step - loss: 1.6017 - accuracy: 0.4319 - val_loss: 1.6268 - val_accuracy: 0.4251\n",
      "Epoch 26/100\n",
      "50000/50000 [==============================] - 2s 31us/step - loss: 1.5774 - accuracy: 0.4425 - val_loss: 1.6894 - val_accuracy: 0.4173\n",
      "Epoch 27/100\n",
      "50000/50000 [==============================] - 2s 31us/step - loss: 1.5842 - accuracy: 0.4368 - val_loss: 1.6294 - val_accuracy: 0.4242\n",
      "Epoch 28/100\n",
      "50000/50000 [==============================] - 2s 31us/step - loss: 1.5823 - accuracy: 0.4393 - val_loss: 1.7668 - val_accuracy: 0.3737\n",
      "Epoch 29/100\n",
      "50000/50000 [==============================] - 2s 31us/step - loss: 1.5969 - accuracy: 0.4346 - val_loss: 1.7681 - val_accuracy: 0.3785\n",
      "Epoch 30/100\n",
      "50000/50000 [==============================] - 2s 31us/step - loss: 1.5950 - accuracy: 0.4388 - val_loss: 1.7525 - val_accuracy: 0.3989\n",
      "Epoch 31/100\n",
      "50000/50000 [==============================] - 2s 32us/step - loss: 1.5394 - accuracy: 0.4547 - val_loss: 1.9248 - val_accuracy: 0.3426\n",
      "Epoch 32/100\n",
      "50000/50000 [==============================] - 2s 31us/step - loss: 1.5693 - accuracy: 0.4490 - val_loss: 1.6754 - val_accuracy: 0.4059\n",
      "Epoch 33/100\n",
      "50000/50000 [==============================] - 2s 31us/step - loss: 1.6246 - accuracy: 0.4263 - val_loss: 1.7518 - val_accuracy: 0.3860\n",
      "Epoch 34/100\n",
      "50000/50000 [==============================] - 2s 31us/step - loss: 1.6051 - accuracy: 0.4309 - val_loss: 1.7754 - val_accuracy: 0.3828\n",
      "Epoch 35/100\n",
      "50000/50000 [==============================] - 2s 31us/step - loss: 1.5838 - accuracy: 0.4357 - val_loss: 1.6972 - val_accuracy: 0.4080\n",
      "Epoch 36/100\n",
      "50000/50000 [==============================] - 2s 31us/step - loss: 1.5522 - accuracy: 0.4495 - val_loss: 1.6095 - val_accuracy: 0.4399\n",
      "Epoch 37/100\n",
      "50000/50000 [==============================] - 2s 31us/step - loss: 1.5829 - accuracy: 0.4406 - val_loss: 1.6285 - val_accuracy: 0.4299\n",
      "Epoch 38/100\n",
      "50000/50000 [==============================] - 2s 31us/step - loss: 1.5904 - accuracy: 0.4360 - val_loss: 1.6845 - val_accuracy: 0.4136\n",
      "Epoch 39/100\n",
      "50000/50000 [==============================] - 2s 31us/step - loss: 1.5658 - accuracy: 0.4449 - val_loss: 1.7555 - val_accuracy: 0.3902\n",
      "Epoch 40/100\n",
      "50000/50000 [==============================] - 2s 31us/step - loss: 1.5890 - accuracy: 0.4353 - val_loss: 1.6766 - val_accuracy: 0.4105\n",
      "Epoch 41/100\n",
      "50000/50000 [==============================] - 2s 31us/step - loss: 1.5447 - accuracy: 0.4490 - val_loss: 1.7157 - val_accuracy: 0.4039\n",
      "Epoch 42/100\n",
      "50000/50000 [==============================] - 2s 31us/step - loss: 1.5657 - accuracy: 0.4420 - val_loss: 1.7140 - val_accuracy: 0.3917\n",
      "Epoch 43/100\n",
      "50000/50000 [==============================] - 2s 31us/step - loss: 1.5362 - accuracy: 0.4517 - val_loss: 1.5953 - val_accuracy: 0.4351\n",
      "Epoch 44/100\n",
      "50000/50000 [==============================] - 2s 31us/step - loss: 1.5228 - accuracy: 0.4558 - val_loss: 1.6216 - val_accuracy: 0.4197\n",
      "Epoch 45/100\n",
      "50000/50000 [==============================] - 2s 31us/step - loss: 1.5471 - accuracy: 0.4474 - val_loss: 1.6734 - val_accuracy: 0.3994\n",
      "Epoch 46/100\n",
      "50000/50000 [==============================] - 2s 31us/step - loss: 1.5478 - accuracy: 0.4470 - val_loss: 1.7845 - val_accuracy: 0.3745\n",
      "Epoch 47/100\n",
      "50000/50000 [==============================] - 2s 31us/step - loss: 1.5473 - accuracy: 0.4489 - val_loss: 1.6948 - val_accuracy: 0.3891\n",
      "Epoch 48/100\n",
      "50000/50000 [==============================] - 2s 31us/step - loss: 1.5446 - accuracy: 0.4464 - val_loss: 1.6273 - val_accuracy: 0.4304\n",
      "Epoch 49/100\n",
      "50000/50000 [==============================] - 2s 31us/step - loss: 1.4960 - accuracy: 0.4655 - val_loss: 1.6324 - val_accuracy: 0.4282\n",
      "Epoch 50/100\n",
      "50000/50000 [==============================] - 2s 31us/step - loss: 1.5000 - accuracy: 0.4664 - val_loss: 1.6320 - val_accuracy: 0.4245\n",
      "Epoch 51/100\n",
      "50000/50000 [==============================] - 2s 31us/step - loss: 1.4952 - accuracy: 0.4637 - val_loss: 1.5874 - val_accuracy: 0.4428\n",
      "Epoch 52/100\n",
      "50000/50000 [==============================] - 2s 31us/step - loss: 1.4828 - accuracy: 0.4717 - val_loss: 1.6341 - val_accuracy: 0.4129\n",
      "Epoch 53/100\n",
      "50000/50000 [==============================] - 2s 31us/step - loss: 1.4789 - accuracy: 0.4722 - val_loss: 1.5651 - val_accuracy: 0.4407\n",
      "Epoch 54/100\n",
      "50000/50000 [==============================] - 2s 31us/step - loss: 1.4685 - accuracy: 0.4732 - val_loss: 1.6386 - val_accuracy: 0.4226\n",
      "Epoch 55/100\n",
      "50000/50000 [==============================] - 2s 31us/step - loss: 1.4582 - accuracy: 0.4782 - val_loss: 1.5372 - val_accuracy: 0.4535\n"
     ]
    },
    {
     "name": "stdout",
     "output_type": "stream",
     "text": [
      "Epoch 56/100\n",
      "50000/50000 [==============================] - 2s 31us/step - loss: 1.4279 - accuracy: 0.4886 - val_loss: 1.5892 - val_accuracy: 0.4377\n",
      "Epoch 57/100\n",
      "50000/50000 [==============================] - 2s 31us/step - loss: 1.4300 - accuracy: 0.4880 - val_loss: 1.5040 - val_accuracy: 0.4665\n",
      "Epoch 58/100\n",
      "50000/50000 [==============================] - 2s 31us/step - loss: 1.4278 - accuracy: 0.4914 - val_loss: 1.5673 - val_accuracy: 0.4533\n",
      "Epoch 59/100\n",
      "50000/50000 [==============================] - 2s 31us/step - loss: 1.4475 - accuracy: 0.4822 - val_loss: 1.5856 - val_accuracy: 0.4448\n",
      "Epoch 60/100\n",
      "50000/50000 [==============================] - 2s 32us/step - loss: 1.4298 - accuracy: 0.4871 - val_loss: 1.5498 - val_accuracy: 0.4504\n",
      "Epoch 61/100\n",
      "50000/50000 [==============================] - 2s 31us/step - loss: 1.4261 - accuracy: 0.4923 - val_loss: 1.6160 - val_accuracy: 0.4362\n",
      "Epoch 62/100\n",
      "50000/50000 [==============================] - 2s 32us/step - loss: 1.4157 - accuracy: 0.4927 - val_loss: 1.5492 - val_accuracy: 0.4513\n",
      "Epoch 63/100\n",
      "50000/50000 [==============================] - 2s 31us/step - loss: 1.4112 - accuracy: 0.4941 - val_loss: 1.5046 - val_accuracy: 0.4685\n",
      "Epoch 64/100\n",
      "50000/50000 [==============================] - 2s 31us/step - loss: 1.4022 - accuracy: 0.4949 - val_loss: 1.5647 - val_accuracy: 0.4463\n",
      "Epoch 65/100\n",
      "50000/50000 [==============================] - 2s 31us/step - loss: 1.3935 - accuracy: 0.4984 - val_loss: 1.5244 - val_accuracy: 0.4625\n",
      "Epoch 66/100\n",
      "50000/50000 [==============================] - 2s 32us/step - loss: 1.4051 - accuracy: 0.4961 - val_loss: 1.5567 - val_accuracy: 0.4507\n",
      "Epoch 67/100\n",
      "50000/50000 [==============================] - 2s 31us/step - loss: 1.3974 - accuracy: 0.4995 - val_loss: 1.5586 - val_accuracy: 0.4503\n",
      "Epoch 68/100\n",
      "50000/50000 [==============================] - 2s 31us/step - loss: 1.3817 - accuracy: 0.5051 - val_loss: 1.5470 - val_accuracy: 0.4568\n",
      "Epoch 69/100\n",
      "50000/50000 [==============================] - 2s 31us/step - loss: 1.3885 - accuracy: 0.5022 - val_loss: 1.5518 - val_accuracy: 0.4529\n",
      "Epoch 70/100\n",
      "50000/50000 [==============================] - 2s 31us/step - loss: 1.3955 - accuracy: 0.5005 - val_loss: 1.5037 - val_accuracy: 0.4644\n",
      "Epoch 71/100\n",
      "50000/50000 [==============================] - 2s 31us/step - loss: 1.3854 - accuracy: 0.5043 - val_loss: 1.5103 - val_accuracy: 0.4688\n",
      "Epoch 72/100\n",
      "50000/50000 [==============================] - 2s 32us/step - loss: 1.3737 - accuracy: 0.5063 - val_loss: 1.5059 - val_accuracy: 0.4689\n",
      "Epoch 73/100\n",
      "50000/50000 [==============================] - 2s 31us/step - loss: 1.3662 - accuracy: 0.5079 - val_loss: 1.5448 - val_accuracy: 0.4548\n",
      "Epoch 74/100\n",
      "50000/50000 [==============================] - 2s 31us/step - loss: 1.3763 - accuracy: 0.5039 - val_loss: 1.5854 - val_accuracy: 0.4550\n",
      "Epoch 75/100\n",
      "50000/50000 [==============================] - 2s 32us/step - loss: 1.6951 - accuracy: 0.4167 - val_loss: 2.1619 - val_accuracy: 0.1835\n",
      "Epoch 76/100\n",
      "50000/50000 [==============================] - 2s 31us/step - loss: 2.0696 - accuracy: 0.1936 - val_loss: 1.9309 - val_accuracy: 0.2637\n",
      "Epoch 77/100\n",
      "50000/50000 [==============================] - 2s 31us/step - loss: 1.8975 - accuracy: 0.2709 - val_loss: 1.8842 - val_accuracy: 0.2798\n",
      "Epoch 78/100\n",
      "50000/50000 [==============================] - 2s 31us/step - loss: 1.8230 - accuracy: 0.3050 - val_loss: 1.8065 - val_accuracy: 0.3103\n",
      "Epoch 79/100\n",
      "50000/50000 [==============================] - 2s 31us/step - loss: 1.7813 - accuracy: 0.3344 - val_loss: 1.7597 - val_accuracy: 0.3469\n",
      "Epoch 80/100\n",
      "50000/50000 [==============================] - 2s 32us/step - loss: 1.6937 - accuracy: 0.3775 - val_loss: 1.6923 - val_accuracy: 0.3875\n",
      "Epoch 81/100\n",
      "50000/50000 [==============================] - 2s 31us/step - loss: 1.6475 - accuracy: 0.3948 - val_loss: 1.6709 - val_accuracy: 0.3967\n",
      "Epoch 82/100\n",
      "50000/50000 [==============================] - 2s 32us/step - loss: 1.6117 - accuracy: 0.4110 - val_loss: 1.6567 - val_accuracy: 0.4042\n",
      "Epoch 83/100\n",
      "50000/50000 [==============================] - 2s 31us/step - loss: 1.5590 - accuracy: 0.4367 - val_loss: 1.6075 - val_accuracy: 0.4269\n",
      "Epoch 84/100\n",
      "50000/50000 [==============================] - 2s 32us/step - loss: 1.5216 - accuracy: 0.4512 - val_loss: 1.6064 - val_accuracy: 0.4295\n",
      "Epoch 85/100\n",
      "50000/50000 [==============================] - 2s 33us/step - loss: 1.4822 - accuracy: 0.4662 - val_loss: 1.5522 - val_accuracy: 0.4463\n",
      "Epoch 86/100\n",
      "50000/50000 [==============================] - 2s 32us/step - loss: 1.4636 - accuracy: 0.4732 - val_loss: 1.5369 - val_accuracy: 0.4499\n",
      "Epoch 87/100\n",
      "50000/50000 [==============================] - 2s 32us/step - loss: 1.4448 - accuracy: 0.4815 - val_loss: 1.5403 - val_accuracy: 0.4469\n",
      "Epoch 88/100\n",
      "50000/50000 [==============================] - 2s 32us/step - loss: 1.4224 - accuracy: 0.4868 - val_loss: 1.5469 - val_accuracy: 0.4465\n",
      "Epoch 89/100\n",
      "50000/50000 [==============================] - 2s 32us/step - loss: 1.4100 - accuracy: 0.4926 - val_loss: 1.5859 - val_accuracy: 0.4485\n",
      "Epoch 90/100\n",
      "50000/50000 [==============================] - 2s 32us/step - loss: 1.4081 - accuracy: 0.4938 - val_loss: 1.5352 - val_accuracy: 0.4521\n",
      "Epoch 91/100\n",
      "50000/50000 [==============================] - 2s 33us/step - loss: 1.4013 - accuracy: 0.4969 - val_loss: 1.5280 - val_accuracy: 0.4569\n",
      "Epoch 92/100\n",
      "50000/50000 [==============================] - 2s 32us/step - loss: 1.3745 - accuracy: 0.5059 - val_loss: 1.5262 - val_accuracy: 0.4637\n",
      "Epoch 93/100\n",
      "50000/50000 [==============================] - 2s 32us/step - loss: 1.3681 - accuracy: 0.5089 - val_loss: 1.5136 - val_accuracy: 0.4666\n",
      "Epoch 94/100\n",
      "50000/50000 [==============================] - 2s 32us/step - loss: 1.3762 - accuracy: 0.5047 - val_loss: 1.5272 - val_accuracy: 0.4594\n",
      "Epoch 95/100\n",
      "50000/50000 [==============================] - 2s 32us/step - loss: 1.3630 - accuracy: 0.5085 - val_loss: 1.6048 - val_accuracy: 0.4369\n",
      "Epoch 96/100\n",
      "50000/50000 [==============================] - 2s 32us/step - loss: 1.3647 - accuracy: 0.5100 - val_loss: 1.5261 - val_accuracy: 0.4658\n",
      "Epoch 97/100\n",
      "50000/50000 [==============================] - 2s 31us/step - loss: 1.3447 - accuracy: 0.5187 - val_loss: 1.5232 - val_accuracy: 0.4631\n",
      "Epoch 98/100\n",
      "50000/50000 [==============================] - 2s 31us/step - loss: 1.3529 - accuracy: 0.5119 - val_loss: 1.5391 - val_accuracy: 0.4686\n",
      "Epoch 99/100\n",
      "50000/50000 [==============================] - 2s 32us/step - loss: 1.3323 - accuracy: 0.5185 - val_loss: 1.4994 - val_accuracy: 0.4737\n",
      "Epoch 100/100\n",
      "50000/50000 [==============================] - 2s 32us/step - loss: 1.3311 - accuracy: 0.5190 - val_loss: 1.5169 - val_accuracy: 0.4719\n"
     ]
    },
    {
     "data": {
      "text/plain": [
       "<keras.callbacks.callbacks.History at 0x1bf7a8c5358>"
      ]
     },
     "execution_count": 9,
     "metadata": {},
     "output_type": "execute_result"
    }
   ],
   "source": [
    "model.fit(x_train, y_train, \n",
    "          epochs=EPOCHS, \n",
    "          batch_size=BATCH_SIZE, \n",
    "          validation_data=(x_test, y_test), \n",
    "          shuffle=True)"
   ]
  },
  {
   "cell_type": "code",
   "execution_count": 11,
   "metadata": {},
   "outputs": [
    {
     "data": {
      "image/png": "[encoded data removed]",
      "text/plain": [
       "<Figure size 432x288 with 1 Axes>"
      ]
     },
     "metadata": {
      "needs_background": "light"
     },
     "output_type": "display_data"
    },
    {
     "data": {
      "image/png": "[encoded data removed]",
      "text/plain": [
       "<Figure size 432x288 with 1 Axes>"
      ]
     },
     "metadata": {
      "needs_background": "light"
     },
     "output_type": "display_data"
    }
   ],
   "source": [
    "import matplotlib.pyplot as plt\n",
    "\n",
    "\n",
    "train_loss = model.history.history[\"loss\"]\n",
    "valid_loss = model.history.history[\"val_loss\"]\n",
    "\n",
    "train_acc = model.history.history[\"accuracy\"]\n",
    "valid_acc = model.history.history[\"val_accuracy\"]\n",
    "\n",
    "plt.plot(range(len(train_loss)), train_loss, label=\"train loss\")\n",
    "plt.plot(range(len(valid_loss)), valid_loss, label=\"valid loss\")\n",
    "plt.legend()\n",
    "plt.title(\"Loss\")\n",
    "plt.show()\n",
    "\n",
    "plt.plot(range(len(train_acc)), train_acc, label=\"train accuracy\")\n",
    "plt.plot(range(len(valid_acc)), valid_acc, label=\"valid accuracy\")\n",
    "plt.legend()\n",
    "plt.title(\"Accuracy\")\n",
    "plt.show()"
   ]
  },
  {
   "cell_type": "code",
   "execution_count": null,
   "metadata": {},
   "outputs": [],
   "source": []
  }
 ],
 "metadata": {
  "kernelspec": {
   "display_name": "Python 3",
   "language": "python",
   "name": "python3"
  },
  "language_info": {
   "codemirror_mode": {
    "name": "ipython",
    "version": 3
   },
   "file_extension": ".py",
   "mimetype": "text/x-python",
   "name": "python",
   "nbconvert_exporter": "python",
   "pygments_lexer": "ipython3",
   "version": "3.7.3"
  }
 },
 "nbformat": 4,
 "nbformat_minor": 2
}
